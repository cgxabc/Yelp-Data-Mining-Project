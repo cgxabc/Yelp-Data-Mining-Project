{
 "cells": [
  {
   "cell_type": "code",
   "execution_count": 1,
   "metadata": {
    "collapsed": true
   },
   "outputs": [],
   "source": [
    "import os\n",
    "import sys\n",
    "import pandas as pd\n",
    "import numpy as np\n",
    "import matplotlib.pyplot as plt\n",
    "import textblob as tb\n",
    "%matplotlib inline"
   ]
  },
  {
   "cell_type": "code",
   "execution_count": 2,
   "metadata": {
    "collapsed": true
   },
   "outputs": [],
   "source": [
    "np.random.seed(100)"
   ]
  },
  {
   "cell_type": "code",
   "execution_count": 3,
   "metadata": {},
   "outputs": [
    {
     "data": {
      "text/html": [
       "<div>\n",
       "<style>\n",
       "    .dataframe thead tr:only-child th {\n",
       "        text-align: right;\n",
       "    }\n",
       "\n",
       "    .dataframe thead th {\n",
       "        text-align: left;\n",
       "    }\n",
       "\n",
       "    .dataframe tbody tr th {\n",
       "        vertical-align: top;\n",
       "    }\n",
       "</style>\n",
       "<table border=\"1\" class=\"dataframe\">\n",
       "  <thead>\n",
       "    <tr style=\"text-align: right;\">\n",
       "      <th></th>\n",
       "      <th>indicator</th>\n",
       "    </tr>\n",
       "  </thead>\n",
       "  <tbody>\n",
       "    <tr>\n",
       "      <th>0</th>\n",
       "      <td>1</td>\n",
       "    </tr>\n",
       "    <tr>\n",
       "      <th>1</th>\n",
       "      <td>1</td>\n",
       "    </tr>\n",
       "    <tr>\n",
       "      <th>2</th>\n",
       "      <td>1</td>\n",
       "    </tr>\n",
       "    <tr>\n",
       "      <th>3</th>\n",
       "      <td>0</td>\n",
       "    </tr>\n",
       "    <tr>\n",
       "      <th>4</th>\n",
       "      <td>0</td>\n",
       "    </tr>\n",
       "  </tbody>\n",
       "</table>\n",
       "</div>"
      ],
      "text/plain": [
       "  indicator\n",
       "0         1\n",
       "1         1\n",
       "2         1\n",
       "3         0\n",
       "4         0"
      ]
     },
     "execution_count": 3,
     "metadata": {},
     "output_type": "execute_result"
    }
   ],
   "source": [
    "labels = pd.read_csv('hygiene.dat.labels', names=['indicator'])\n",
    "labels.head()"
   ]
  },
  {
   "cell_type": "code",
   "execution_count": 4,
   "metadata": {},
   "outputs": [
    {
     "data": {
      "text/plain": [
       "12753"
      ]
     },
     "execution_count": 4,
     "metadata": {},
     "output_type": "execute_result"
    }
   ],
   "source": [
    "test_labels = labels[labels.indicator == '[None]']\n",
    "len(test_labels)"
   ]
  },
  {
   "cell_type": "code",
   "execution_count": 5,
   "metadata": {},
   "outputs": [
    {
     "data": {
      "text/plain": [
       "13299"
      ]
     },
     "execution_count": 5,
     "metadata": {},
     "output_type": "execute_result"
    }
   ],
   "source": [
    "len(labels)"
   ]
  },
  {
   "cell_type": "code",
   "execution_count": 6,
   "metadata": {
    "collapsed": true
   },
   "outputs": [],
   "source": [
    "train_labels = labels[labels.indicator != '[None]']"
   ]
  },
  {
   "cell_type": "code",
   "execution_count": 7,
   "metadata": {},
   "outputs": [
    {
     "data": {
      "text/plain": [
       "546"
      ]
     },
     "execution_count": 7,
     "metadata": {},
     "output_type": "execute_result"
    }
   ],
   "source": [
    "len(train_labels)"
   ]
  },
  {
   "cell_type": "markdown",
   "metadata": {},
   "source": [
    "## text cleaning"
   ]
  },
  {
   "cell_type": "code",
   "execution_count": 8,
   "metadata": {},
   "outputs": [
    {
     "data": {
      "text/plain": [
       "'I live up the street from Betty. &#160;When my sister was in town for Spring Break, we made an effort to hit several little places we had never been to before.BETTY WAS PRETTY SWEET!The service was lively. &#160;We made a reservation (via Yelp of course) and were seated right away by the window for a group of four. &#160;I love sitting by the window because I want to be seen when I\\'m out. &#160;It was really a pleasant evening.Three of us had the Betty Burger, which was substantially larger than I expected. &#160;My sister had the pan roasted chicken, which was also generously portioned.For those of you who would be traveling to Queen Anne from elsewhere, FREE PARKING ON QUEEN ANNE AVE, WHOOOHOOO! :) Wow.. Came here for Happy Hour and never knew this place had a back room. I highly recommend coming here for Happy Hour. The place is classy with just enough dark ambiance to make this place sexy. The food was great! We went small place style and got the following items. Happy Hour Clams were amazing. The broth was interesting with just enough kick to it. Hour Hour Frites - Yummy fries. How can you go wrong with frieds.Happy Hour Lemon Drop - Tasty, tasty, tasty!Happy Hour Oysters - YUM!Happy Hour Wine by the glassMix GreenYes.. Betty. I heart you! I recently tried Betty for the first time and boy, am I ever a fan. The ambiance was fantastic. We were slightly surprised at how short the menu was. At first it put us off a little bit, but we both found something that sounded like it could be ok.When the food came, our choices were validated. I had the lamb ragout. It had plenty of meat, fresh peas, rich sauce and freshly made noodles. It was a huge amount of food but the flavors were so amazing that I managed to eat the entire thing.Be sure to get reservations (http://opentable.com makes it easy.) Not bad BettyWent here for dinner with friends. Don\\'t be confused by the velvet curtain as you walk through the door. Weird way to keep the cold out. They can seat about 8 at most. The server was friendly. Tried the Betty burger and beer. Burger was huge and not as flavorful as I hoped. The fries were burnt and not that great. I tried my friend\\'s dishes and I\\'ll have to get the chicken next time. No one tried the rib eye steak and frites and I\\'m curious about that one. The menu is already changing, but never let\\'s me down. I\\'ve been here at least 10 times and have never been served a mediocre meal --everything here is delicious.The service is exceptional and very friendly. The setting is casual, and conveniently located on Queen Anne Ave.It can be a little pricey, but certainly worth it. I wouldn\\'t say that I was a fan, but this is an okay place to go. &#160;I\\'d say it\\'s a seven of ten more than a three of five, but I round halves down.Mom was up visiting from Alabama. &#160;I don\\'t know why she ever agrees to go out with us, because it is always the same: &#160;too slow, too expensive, too salty, one dollar should be enough tip.This time she didn\\'t grouse about the tip, although she\\'d been skipped on the water service (as I had), but she remarked on the friendliness of the people there. &#160;Service was timely. &#160;I also ordered a to-go meal for my wife who wasn\\'t with us, they timed it perfectly. &#160;On a separate check, in fact, which they had no problem doing.They got us in during Seattle Restaurant Week, which was awesome.I had the Wild Boar spaghetti (I think they had a fancier name for it, but that\\'s what it was), which my brother also had. &#160;He didn\\'t like it at first, but liked it at the end. &#160;I noticed no improvement, but I liked it from the get-go. &#160;Brother had a point though, he would have had no problem making any of those dishes at home, except the scrumptious desserts.The food was oversalted. &#160;The salt was pretty pervasive, and that\\'s really my only knock on the joint.Takeaway: &#160;I recommend that you try it. &#160;I can see why some people have it as a favorite, it\\'s just not one of mine. The only reason I wouldn\\'t go back here is because your clothing always smells like bacon grease or something when you leave. &#160;It takes a few washes to get the smell out. &#160;Other than that, the wine pours are nice, the staff is great and their tapas is delish. &#160;Wear an old coat when you go there though, you\\'ve been forewarned. This is my go-to restaurant for happy hour in Queen Anne! The menu is amazingly delicous, both for HH and the regular menu. The HH menu is priced really well and the five dollar wine pours are too tempting to not pass up! The frites are delicious with just the right amount of salt. They always have either clams or mussels, and both are my favorite thing to get off of the HH menu! The pulled pork mole tacos are tasty, too, and my husband always orders them when we go.Service is friendly, helpful and relaxed. They aim at letting you have a great time in the restarant, with no pressure about getting you in and out quickly, which is appreciated.Oh - and about two years ago I got a savory stinging nettle risotto that I still dream about to this day. It was THAT good. And right now I\\'m waiting for the right time to go and have their halibut... oh it should be heavenly!Definitely go to Betty if you\\'re around the top of QA. And by \\'definitely go\\', I mean, \\'go all the time!\\'PS: In the summertime they open up their back patio - woohoo!! Sunshine AND great food!! (Excellent time to get the prosecco and some salami + olives on a Friday evening!) The original dinner plan was Lloyd Martin, then suddenly the place was on fire. And by that I mean it included fire trucks. So, I met Peter and Ron at Betty instead. NEVER have I waited so long for a burger. The servers were incredibly good but the kitchen was as devastatingly slow as drowning in ice water in Hell. The drinks were weak and overly expensive.The food was average but sorta pretty.I rank Betty high for service only. My boyfriend and I were looking for a casual place to eat in Upper Queen Anne and have always wanted to try Betty. &#160;I was very surprised to see bottles of wine in ice buckets on customer\\'s tables, but I was very pleased to see that we were in for a treat. &#160;We shared an order of Sauteed Squid and Green Olives, which was absolutely delicious as a starter. &#160;It was also pretty plentiful for an app. &#160;We both then shared a Ribeye Steak and also substituted the fries (after seeing a HEAPING load of fries on another customer\\'s plate) with some mixed organic greens (yum!!). &#160;The ribeye steak was very plentiful, it would\\'ve been too much for one person. &#160;It was SO GOOD. are you too lazy to marinate a chicken and pan roast it to perfection in a cast iron skillet for dinner tonight?not to worry, betty has got you covered. the meat will be succulent and well seasoned. heck, they will even through in some roasted potatoes and vegetables. who needs to order sides?i\\'m afraid I won\\'t order anything else here now. Found this place when our first choice in Queen Anne couldn\\'t guarantee our reservation. Overall, we were quite pleased with the food and the ambience. Unlike some places nearby, you can actually have a conversation and it has a nice feel to it. &#160;The food is good,although the wine list leaves a bit to be desired.Service is OK. They are pleasant, but you get a lot of \"no\"\\'s from them. Simple requests are greeted with a \"no\". &#160;We had a birthday, and while I really don\\'t mind paying for my own dessert, an acknowledgement would at least be nice. &#160;Why else would you ask? This is a place that does things right. We went to Betty\\'s for happy hour after walking y it so many times. All items were very reasonably priced, we tried several different things and we were pleased with all of them. The menu might be a bit too traditional if you will, but the food was cooked right. Also if you sit at the counter you can see the chefs cook your food which is a definite plus, I like to see what goes into my plate and I like it when the kitchen is kept in a proper manner and they are not afraid of showing it to the customers. Could be the nicest staff I\\'ve ever encountered. &#160;And the food was excellent. &#160;I\\'ll be back... Pretty good if you are looking for pub/bistro fare. But don\\'t expect great things if you order a steak or anything \"fancy.\" Delicious. Tthere are so many tempting things on their menu it\\'s hard to know where to begin. &#160;The parmesan tarte is like a cloud--not quiche, not custard with the flavor of fresh parmesan, it defies words. &#160;The homemade pea soup equally fine--tasted the fresh herbs and split peas soft but still holding their shape, and not too heavily flavored with ham--perfect for this extended winter weather. &#160;Several entrees on the menu--fragrant chicken, a vegetarian tangine among others. I ordered the braised/stewed lamb shank. &#160;Betty\\'s version is superb--marvelous lamb that has been slow cooked so that the meat falls off the bone served with a rich vegetable-enhanced tomato-based sauce and a bed of creamy polenta. &#160;Never had lamb that tasted as good as this. &#160;Usually declining dessert, on the fabulous $30 deal this month I indulged. Either of the homemade ice creams are sublime--one with a Guiness caramel sauce and the other, a homemade wedge of Neopolitan ice cream (the strawberry layer tasted like FRESH strawberries!) rests in a shallow pool of dark chocolate fudge sauce. &#160;And three thin dark chocolate shortbread coins hail invitingly from the top of the ice cream wedge daring you to dip them into the fudge sauce too! &#160;Strongly recommend Betty for anyone who knows the difference between ordinarily good and extraordinary! &#160;Betty is in that extra-excellent category. &#160; I found service to be wonderful--fast, warm, not intrusive and I liked the modern feel of the place. &#160;Lighting that was just right for regular meal or romance! Not pretentious, very welcoming, elegant enough to feel like you have dined well. This has become our \"go-to\" place for great food. &#160;It gets better every time we go. &#160;The burger is great, the chicken is great, and the cassoulet was amazing when we went. &#160;You can\\'t go wrong with anything on the menu - check it out! The menu is small and simple and the atmosphere is exactly what you\\'d expect in upper Queen Anne, a great date night spot. &#160;We were a little confused by the entrance which appears to be an entrance to nowhere, but once we passed through the curtain and took our seats everything was great. &#160;We both ended up with the roast chicken, partly because of an ordering gaffe on my part, but I couldn\\'t have been happier. &#160;The chicken was moist and tender and had a delicious crispy skin and the portion size was perfect. &#160;Betty definitely found a spot in the regular rotation for me and the girlfriend. Never been here before or heard of the place. &#160;Went here for the $30 prix fixe menu..this was really a great neighborhood restaurant. &#160;Service was very very slow though...first course was parmesan pudding and grapefruit vinigrette...$12 and $14 respectively...very tasty, the grapefruit added a nice kick..the melted parmesan on crostini was very tasty and it had a pesto add in to round it off...entree was roast chicken and pork loin atop savoy cabbage..the pork was really good and the sauce with the cabbage was very peppery...almost too peppery but I like spicy...The roast chicken was really good too, the breast was moist. &#160;mid $20 range for both..dessert was $8 for any dessert, got the guiness ice cream with brownie bites without the shot of alcohol and the panna cotta...never had panna cotta before, it was with grapefruit....unusual gelatin consistency..not bad but not really good, the candied grapefruit rind was too intense...the ice cream was fine, just ice cream with brownies...can\\'t go wrong with that... Don\\'t think you can go wrong with Betty. Unpretentious, good food and service. Happy hour is especially nice, impressed with their wine by the glass selections and generous pours! Very comfortable, from making reservations the day of for a business dinner , to greeting us, to the ease of the menu. &#160; the Queen Anne area is a very busy place and parking is crazy. I had the duck confit with a lamb sausage, swiss chard. &#160;good comfort food for a california person eating in the \"cold (not yet) NorthWest.\\n'"
      ]
     },
     "execution_count": 8,
     "metadata": {},
     "output_type": "execute_result"
    }
   ],
   "source": [
    "reviews_file = open('hygiene.dat')\n",
    "reviews = reviews_file.readlines()\n",
    "reviews[1]\n",
    "#Each line contains the concatenated text reviews of one restaurant.#"
   ]
  },
  {
   "cell_type": "code",
   "execution_count": 9,
   "metadata": {},
   "outputs": [
    {
     "data": {
      "text/html": [
       "<div>\n",
       "<style>\n",
       "    .dataframe thead tr:only-child th {\n",
       "        text-align: right;\n",
       "    }\n",
       "\n",
       "    .dataframe thead th {\n",
       "        text-align: left;\n",
       "    }\n",
       "\n",
       "    .dataframe tbody tr th {\n",
       "        vertical-align: top;\n",
       "    }\n",
       "</style>\n",
       "<table border=\"1\" class=\"dataframe\">\n",
       "  <thead>\n",
       "    <tr style=\"text-align: right;\">\n",
       "      <th></th>\n",
       "      <th>reviews</th>\n",
       "    </tr>\n",
       "  </thead>\n",
       "  <tbody>\n",
       "    <tr>\n",
       "      <th>0</th>\n",
       "      <td>The baguettes and rolls are excellent, and alt...</td>\n",
       "    </tr>\n",
       "    <tr>\n",
       "      <th>1</th>\n",
       "      <td>I live up the street from Betty. &amp;#160;When my...</td>\n",
       "    </tr>\n",
       "    <tr>\n",
       "      <th>2</th>\n",
       "      <td>I'm worried about how I will review this place...</td>\n",
       "    </tr>\n",
       "    <tr>\n",
       "      <th>3</th>\n",
       "      <td>Why can't you access them on Google street vie...</td>\n",
       "    </tr>\n",
       "    <tr>\n",
       "      <th>4</th>\n",
       "      <td>Things to like about this place: homemade guac...</td>\n",
       "    </tr>\n",
       "  </tbody>\n",
       "</table>\n",
       "</div>"
      ],
      "text/plain": [
       "                                             reviews\n",
       "0  The baguettes and rolls are excellent, and alt...\n",
       "1  I live up the street from Betty. &#160;When my...\n",
       "2  I'm worried about how I will review this place...\n",
       "3  Why can't you access them on Google street vie...\n",
       "4  Things to like about this place: homemade guac..."
      ]
     },
     "execution_count": 9,
     "metadata": {},
     "output_type": "execute_result"
    }
   ],
   "source": [
    "reviews_table = pd.DataFrame(reviews, columns = ['reviews'])\n",
    "reviews_table.head()"
   ]
  },
  {
   "cell_type": "code",
   "execution_count": 10,
   "metadata": {
    "collapsed": true
   },
   "outputs": [],
   "source": [
    "#clean the reviews\n",
    "reviews_table['reviews'] = reviews_table['reviews'].str.lower().str.replace(\"&#160;\",\"\")\\\n",
    ".str.replace('\\n','').str.replace('[^\\w\\s]','').str.replace(' +', ' ').str.replace('\"','')\n"
   ]
  },
  {
   "cell_type": "code",
   "execution_count": 11,
   "metadata": {
    "collapsed": true
   },
   "outputs": [],
   "source": [
    "def remove_punctuation(text):\n",
    "    import string\n",
    "    return text.translate(None, string.punctuation) \n"
   ]
  },
  {
   "cell_type": "code",
   "execution_count": 12,
   "metadata": {
    "collapsed": true
   },
   "outputs": [],
   "source": [
    "reviews_table['reviews'] = reviews_table['reviews'].apply(remove_punctuation)"
   ]
  },
  {
   "cell_type": "code",
   "execution_count": 13,
   "metadata": {},
   "outputs": [
    {
     "data": {
      "text/plain": [
       "'i live up the street from betty when my sister was in town for spring break we made an effort to hit several little places we had never been to beforebetty was pretty sweetthe service was lively we made a reservation via yelp of course and were seated right away by the window for a group of four i love sitting by the window because i want to be seen when im out it was really a pleasant eveningthree of us had the betty burger which was substantially larger than i expected my sister had the pan roasted chicken which was also generously portionedfor those of you who would be traveling to queen anne from elsewhere free parking on queen anne ave whooohooo wow came here for happy hour and never knew this place had a back room i highly recommend coming here for happy hour the place is classy with just enough dark ambiance to make this place sexy the food was great we went small place style and got the following items happy hour clams were amazing the broth was interesting with just enough kick to it hour hour frites yummy fries how can you go wrong with friedshappy hour lemon drop tasty tasty tastyhappy hour oysters yumhappy hour wine by the glassmix greenyes betty i heart you i recently tried betty for the first time and boy am i ever a fan the ambiance was fantastic we were slightly surprised at how short the menu was at first it put us off a little bit but we both found something that sounded like it could be okwhen the food came our choices were validated i had the lamb ragout it had plenty of meat fresh peas rich sauce and freshly made noodles it was a huge amount of food but the flavors were so amazing that i managed to eat the entire thingbe sure to get reservations httpopentablecom makes it easy not bad bettywent here for dinner with friends dont be confused by the velvet curtain as you walk through the door weird way to keep the cold out they can seat about 8 at most the server was friendly tried the betty burger and beer burger was huge and not as flavorful as i hoped the fries were burnt and not that great i tried my friends dishes and ill have to get the chicken next time no one tried the rib eye steak and frites and im curious about that one the menu is already changing but never lets me down ive been here at least 10 times and have never been served a mediocre meal everything here is deliciousthe service is exceptional and very friendly the setting is casual and conveniently located on queen anne aveit can be a little pricey but certainly worth it i wouldnt say that i was a fan but this is an okay place to go id say its a seven of ten more than a three of five but i round halves downmom was up visiting from alabama i dont know why she ever agrees to go out with us because it is always the same too slow too expensive too salty one dollar should be enough tipthis time she didnt grouse about the tip although shed been skipped on the water service as i had but she remarked on the friendliness of the people there service was timely i also ordered a togo meal for my wife who wasnt with us they timed it perfectly on a separate check in fact which they had no problem doingthey got us in during seattle restaurant week which was awesomei had the wild boar spaghetti i think they had a fancier name for it but thats what it was which my brother also had he didnt like it at first but liked it at the end i noticed no improvement but i liked it from the getgo brother had a point though he would have had no problem making any of those dishes at home except the scrumptious dessertsthe food was oversalted the salt was pretty pervasive and thats really my only knock on the jointtakeaway i recommend that you try it i can see why some people have it as a favorite its just not one of mine the only reason i wouldnt go back here is because your clothing always smells like bacon grease or something when you leave it takes a few washes to get the smell out other than that the wine pours are nice the staff is great and their tapas is delish wear an old coat when you go there though youve been forewarned this is my goto restaurant for happy hour in queen anne the menu is amazingly delicous both for hh and the regular menu the hh menu is priced really well and the five dollar wine pours are too tempting to not pass up the frites are delicious with just the right amount of salt they always have either clams or mussels and both are my favorite thing to get off of the hh menu the pulled pork mole tacos are tasty too and my husband always orders them when we goservice is friendly helpful and relaxed they aim at letting you have a great time in the restarant with no pressure about getting you in and out quickly which is appreciatedoh and about two years ago i got a savory stinging nettle risotto that i still dream about to this day it was that good and right now im waiting for the right time to go and have their halibut oh it should be heavenlydefinitely go to betty if youre around the top of qa and by definitely go i mean go all the timeps in the summertime they open up their back patio woohoo sunshine and great food excellent time to get the prosecco and some salami olives on a friday evening the original dinner plan was lloyd martin then suddenly the place was on fire and by that i mean it included fire trucks so i met peter and ron at betty instead never have i waited so long for a burger the servers were incredibly good but the kitchen was as devastatingly slow as drowning in ice water in hell the drinks were weak and overly expensivethe food was average but sorta prettyi rank betty high for service only my boyfriend and i were looking for a casual place to eat in upper queen anne and have always wanted to try betty i was very surprised to see bottles of wine in ice buckets on customers tables but i was very pleased to see that we were in for a treat we shared an order of sauteed squid and green olives which was absolutely delicious as a starter it was also pretty plentiful for an app we both then shared a ribeye steak and also substituted the fries after seeing a heaping load of fries on another customers plate with some mixed organic greens yum the ribeye steak was very plentiful it wouldve been too much for one person it was so good are you too lazy to marinate a chicken and pan roast it to perfection in a cast iron skillet for dinner tonightnot to worry betty has got you covered the meat will be succulent and well seasoned heck they will even through in some roasted potatoes and vegetables who needs to order sidesim afraid i wont order anything else here now found this place when our first choice in queen anne couldnt guarantee our reservation overall we were quite pleased with the food and the ambience unlike some places nearby you can actually have a conversation and it has a nice feel to it the food is goodalthough the wine list leaves a bit to be desiredservice is ok they are pleasant but you get a lot of nos from them simple requests are greeted with a no we had a birthday and while i really dont mind paying for my own dessert an acknowledgement would at least be nice why else would you ask this is a place that does things right we went to bettys for happy hour after walking y it so many times all items were very reasonably priced we tried several different things and we were pleased with all of them the menu might be a bit too traditional if you will but the food was cooked right also if you sit at the counter you can see the chefs cook your food which is a definite plus i like to see what goes into my plate and i like it when the kitchen is kept in a proper manner and they are not afraid of showing it to the customers could be the nicest staff ive ever encountered and the food was excellent ill be back pretty good if you are looking for pubbistro fare but dont expect great things if you order a steak or anything fancy delicious tthere are so many tempting things on their menu its hard to know where to begin the parmesan tarte is like a cloudnot quiche not custard with the flavor of fresh parmesan it defies words the homemade pea soup equally finetasted the fresh herbs and split peas soft but still holding their shape and not too heavily flavored with hamperfect for this extended winter weather several entrees on the menufragrant chicken a vegetarian tangine among others i ordered the braisedstewed lamb shank bettys version is superbmarvelous lamb that has been slow cooked so that the meat falls off the bone served with a rich vegetableenhanced tomatobased sauce and a bed of creamy polenta never had lamb that tasted as good as this usually declining dessert on the fabulous 30 deal this month i indulged either of the homemade ice creams are sublimeone with a guiness caramel sauce and the other a homemade wedge of neopolitan ice cream the strawberry layer tasted like fresh strawberries rests in a shallow pool of dark chocolate fudge sauce and three thin dark chocolate shortbread coins hail invitingly from the top of the ice cream wedge daring you to dip them into the fudge sauce too strongly recommend betty for anyone who knows the difference between ordinarily good and extraordinary betty is in that extraexcellent category i found service to be wonderfulfast warm not intrusive and i liked the modern feel of the place lighting that was just right for regular meal or romance not pretentious very welcoming elegant enough to feel like you have dined well this has become our goto place for great food it gets better every time we go the burger is great the chicken is great and the cassoulet was amazing when we went you cant go wrong with anything on the menu check it out the menu is small and simple and the atmosphere is exactly what youd expect in upper queen anne a great date night spot we were a little confused by the entrance which appears to be an entrance to nowhere but once we passed through the curtain and took our seats everything was great we both ended up with the roast chicken partly because of an ordering gaffe on my part but i couldnt have been happier the chicken was moist and tender and had a delicious crispy skin and the portion size was perfect betty definitely found a spot in the regular rotation for me and the girlfriend never been here before or heard of the place went here for the 30 prix fixe menuthis was really a great neighborhood restaurant service was very very slow thoughfirst course was parmesan pudding and grapefruit vinigrette12 and 14 respectivelyvery tasty the grapefruit added a nice kickthe melted parmesan on crostini was very tasty and it had a pesto add in to round it offentree was roast chicken and pork loin atop savoy cabbagethe pork was really good and the sauce with the cabbage was very pepperyalmost too peppery but i like spicythe roast chicken was really good too the breast was moist mid 20 range for bothdessert was 8 for any dessert got the guiness ice cream with brownie bites without the shot of alcohol and the panna cottanever had panna cotta before it was with grapefruitunusual gelatin consistencynot bad but not really good the candied grapefruit rind was too intensethe ice cream was fine just ice cream with browniescant go wrong with that dont think you can go wrong with betty unpretentious good food and service happy hour is especially nice impressed with their wine by the glass selections and generous pours very comfortable from making reservations the day of for a business dinner to greeting us to the ease of the menu the queen anne area is a very busy place and parking is crazy i had the duck confit with a lamb sausage swiss chard good comfort food for a california person eating in the cold not yet northwest'"
      ]
     },
     "execution_count": 13,
     "metadata": {},
     "output_type": "execute_result"
    }
   ],
   "source": [
    "reviews_table['reviews'][1]"
   ]
  },
  {
   "cell_type": "code",
   "execution_count": 14,
   "metadata": {},
   "outputs": [
    {
     "data": {
      "text/plain": [
       "13299"
      ]
     },
     "execution_count": 14,
     "metadata": {},
     "output_type": "execute_result"
    }
   ],
   "source": [
    "len(reviews_table['reviews'])"
   ]
  },
  {
   "cell_type": "markdown",
   "metadata": {},
   "source": [
    "## compute total character lengths and total number of words"
   ]
  },
  {
   "cell_type": "code",
   "execution_count": 15,
   "metadata": {},
   "outputs": [
    {
     "data": {
      "text/html": [
       "<div>\n",
       "<style>\n",
       "    .dataframe thead tr:only-child th {\n",
       "        text-align: right;\n",
       "    }\n",
       "\n",
       "    .dataframe thead th {\n",
       "        text-align: left;\n",
       "    }\n",
       "\n",
       "    .dataframe tbody tr th {\n",
       "        vertical-align: top;\n",
       "    }\n",
       "</style>\n",
       "<table border=\"1\" class=\"dataframe\">\n",
       "  <thead>\n",
       "    <tr style=\"text-align: right;\">\n",
       "      <th></th>\n",
       "      <th>reviews</th>\n",
       "      <th>total_char_length</th>\n",
       "    </tr>\n",
       "  </thead>\n",
       "  <tbody>\n",
       "    <tr>\n",
       "      <th>0</th>\n",
       "      <td>the baguettes and rolls are excellent and alth...</td>\n",
       "      <td>3694</td>\n",
       "    </tr>\n",
       "    <tr>\n",
       "      <th>1</th>\n",
       "      <td>i live up the street from betty when my sister...</td>\n",
       "      <td>11662</td>\n",
       "    </tr>\n",
       "    <tr>\n",
       "      <th>2</th>\n",
       "      <td>im worried about how i will review this place ...</td>\n",
       "      <td>10122</td>\n",
       "    </tr>\n",
       "    <tr>\n",
       "      <th>3</th>\n",
       "      <td>why cant you access them on google street view...</td>\n",
       "      <td>28499</td>\n",
       "    </tr>\n",
       "    <tr>\n",
       "      <th>4</th>\n",
       "      <td>things to like about this place homemade guaca...</td>\n",
       "      <td>4636</td>\n",
       "    </tr>\n",
       "  </tbody>\n",
       "</table>\n",
       "</div>"
      ],
      "text/plain": [
       "                                             reviews  total_char_length\n",
       "0  the baguettes and rolls are excellent and alth...               3694\n",
       "1  i live up the street from betty when my sister...              11662\n",
       "2  im worried about how i will review this place ...              10122\n",
       "3  why cant you access them on google street view...              28499\n",
       "4  things to like about this place homemade guaca...               4636"
      ]
     },
     "execution_count": 15,
     "metadata": {},
     "output_type": "execute_result"
    }
   ],
   "source": [
    "reviews_table['total_char_length'] = reviews_table['reviews'].str.len()\n",
    "reviews_table.head()"
   ]
  },
  {
   "cell_type": "code",
   "execution_count": 16,
   "metadata": {},
   "outputs": [
    {
     "data": {
      "text/html": [
       "<div>\n",
       "<style>\n",
       "    .dataframe thead tr:only-child th {\n",
       "        text-align: right;\n",
       "    }\n",
       "\n",
       "    .dataframe thead th {\n",
       "        text-align: left;\n",
       "    }\n",
       "\n",
       "    .dataframe tbody tr th {\n",
       "        vertical-align: top;\n",
       "    }\n",
       "</style>\n",
       "<table border=\"1\" class=\"dataframe\">\n",
       "  <thead>\n",
       "    <tr style=\"text-align: right;\">\n",
       "      <th></th>\n",
       "      <th>reviews</th>\n",
       "      <th>total_char_length</th>\n",
       "      <th>total_num_words</th>\n",
       "    </tr>\n",
       "  </thead>\n",
       "  <tbody>\n",
       "    <tr>\n",
       "      <th>0</th>\n",
       "      <td>the baguettes and rolls are excellent and alth...</td>\n",
       "      <td>3694</td>\n",
       "      <td>690</td>\n",
       "    </tr>\n",
       "    <tr>\n",
       "      <th>1</th>\n",
       "      <td>i live up the street from betty when my sister...</td>\n",
       "      <td>11662</td>\n",
       "      <td>2177</td>\n",
       "    </tr>\n",
       "    <tr>\n",
       "      <th>2</th>\n",
       "      <td>im worried about how i will review this place ...</td>\n",
       "      <td>10122</td>\n",
       "      <td>1935</td>\n",
       "    </tr>\n",
       "    <tr>\n",
       "      <th>3</th>\n",
       "      <td>why cant you access them on google street view...</td>\n",
       "      <td>28499</td>\n",
       "      <td>5264</td>\n",
       "    </tr>\n",
       "    <tr>\n",
       "      <th>4</th>\n",
       "      <td>things to like about this place homemade guaca...</td>\n",
       "      <td>4636</td>\n",
       "      <td>888</td>\n",
       "    </tr>\n",
       "  </tbody>\n",
       "</table>\n",
       "</div>"
      ],
      "text/plain": [
       "                                             reviews  total_char_length  \\\n",
       "0  the baguettes and rolls are excellent and alth...               3694   \n",
       "1  i live up the street from betty when my sister...              11662   \n",
       "2  im worried about how i will review this place ...              10122   \n",
       "3  why cant you access them on google street view...              28499   \n",
       "4  things to like about this place homemade guaca...               4636   \n",
       "\n",
       "   total_num_words  \n",
       "0              690  \n",
       "1             2177  \n",
       "2             1935  \n",
       "3             5264  \n",
       "4              888  "
      ]
     },
     "execution_count": 16,
     "metadata": {},
     "output_type": "execute_result"
    }
   ],
   "source": [
    "reviews_table['total_num_words'] = reviews_table['reviews'].apply(lambda x: len(x.split()))\n",
    "reviews_table.head()"
   ]
  },
  {
   "cell_type": "code",
   "execution_count": 17,
   "metadata": {},
   "outputs": [
    {
     "data": {
      "text/plain": [
       "TextBlob(\"the baguettes and rolls are excellent and although i havent tried them yet im excited about the dozenplus types of filled croissants on offer at ridiculously low prices cheese with or without ham blueberry with or without cream cheese chocolate almond this could be dangerous i have a bad bakery habit but at least at q bakery i wont go broke while i get fat ive tried four different banh mi and ill agree with matthew that the basic ones are somewhat americanized mushroom was more interesting than chicken or bbq pork obviously that made this a good place to get food for the inlaws that seemed exotic but not too scary note to self dont publish this on facebook where the inlaws might see it q bakerys location on two divided streets makes it a slight pain to get to but its worth a stop if you want affordable variety this used to be the location of my favorite bahn mi shop in seattle king baguettes so when i saw that after one year as a pho restaurant that a new bahn mi joint had taken up residence with dreams of king baguettes chicken bahn mi dancing in my head i quickly rushed inat first examination q bakery is a lot more welcoming than the old king baguette there are a variety of baked goods in the cases and they have both bahn mi and regular deli sandwiches available i had both a pork and a teriyaki chicken bahn mi and i found that they didnt quite hit the mark on the plus side q bakery is not stingy with the meat and the meat is both flavorful and juicy the teriyaki chicken was especially interesting as ive never had a bahn mi like it before and i quite enjoyed it also q bakery is mercifully light on the mayonnaise on the down side both my sandwiches lacked much kick they tasted like an americanized bahn mi with all the asian flavors toned way down the baguette itself was also kind of disapointing being more chewy than crustyfor a brand new place however i think q bakery has a lot of potential and i look forward to trying them out again in the near future yum i always always look forward to visiting my family in seattle wa so i can get all types of baked goodies from qs they are known for their banh mis i usually order the banh mi cha lua the customer service is getting better english is obviously not their second language but many establishments these days arent anyways love this place we mostly go there for the vietnamese sandwiches i usually go for the veggie ones theyre full of flavorful tofu and a great assortment of veggies i dont feel like ive just had a sandwichful of bread after eating there it actually feels like ive eaten my veggies my husband gets the meat sandwiches he says he likes qs sandwiches because chicken is not shredded the sandwich is bigger and the store is great because its better lit better arranged and tidier than somehaving lived in france and eaten my way though manyapatisserie i have to add that qs pastry selection and taste are pretty awesome im talking straight up delicious pains au chocolat and pains aux raisins they also have all sorts of candies in jars and sesame treats they have one or 2 tables w 4 or 6 chairs for eating in theyre open til 7pm also they take cards which makes it handy if we dont have cashone star off because its been a little tough to communicate with the folks there since we dont speak vietnamese wouldnt be a problem except weve ended up with the wrong food before overall great little place and ill totally be bringing my parents there when they come to visit this weekend thanks for the idea matthewps brought my mom there when she came for a visit and she loved it naturally the rents had never had a vietnamese sandwich before great way to introduce them to the magic of banh mi\")"
      ]
     },
     "execution_count": 17,
     "metadata": {},
     "output_type": "execute_result"
    }
   ],
   "source": [
    "review_0=tb.TextBlob(reviews_table['reviews'][0])\n",
    "review_0"
   ]
  },
  {
   "cell_type": "code",
   "execution_count": 18,
   "metadata": {},
   "outputs": [
    {
     "data": {
      "text/plain": [
       "Sentiment(polarity=0.16062523973916376, subjectivity=0.5786555919467311)"
      ]
     },
     "execution_count": 18,
     "metadata": {},
     "output_type": "execute_result"
    }
   ],
   "source": [
    "review_0.sentiment"
   ]
  },
  {
   "cell_type": "markdown",
   "metadata": {},
   "source": [
    "## compute term-document matrix "
   ]
  },
  {
   "cell_type": "code",
   "execution_count": 19,
   "metadata": {
    "collapsed": true
   },
   "outputs": [],
   "source": [
    "from sklearn.feature_extraction.text import CountVectorizer"
   ]
  },
  {
   "cell_type": "code",
   "execution_count": 20,
   "metadata": {
    "collapsed": true
   },
   "outputs": [],
   "source": [
    "# this is a function that calculates a term frequency matrix from the reviews\n",
    "def term_doc_matrix(reviews, ngram_range):\n",
    "    reviews = reviews.fillna(\" \")\n",
    "    vectorizer = CountVectorizer(ngram_range = ngram_range, stop_words = 'english', min_df = 20, max_df = 1.0)\n",
    "    term_doc_column = pd.DataFrame(vectorizer.fit_transform(reviews).toarray(),\n",
    "                                  columns = vectorizer.get_feature_names(),\n",
    "                                  index = reviews.index)\n",
    "    ordered_columns_by_count = term_doc_column.sum().reset_index().sort_values(0, ascending = False)['index']\n",
    "    term_doc_column = term_doc_column[ordered_columns_by_count]\n",
    "    return term_doc_column  "
   ]
  },
  {
   "cell_type": "code",
   "execution_count": 21,
   "metadata": {},
   "outputs": [
    {
     "data": {
      "text/html": [
       "<div>\n",
       "<style>\n",
       "    .dataframe thead tr:only-child th {\n",
       "        text-align: right;\n",
       "    }\n",
       "\n",
       "    .dataframe thead th {\n",
       "        text-align: left;\n",
       "    }\n",
       "\n",
       "    .dataframe tbody tr th {\n",
       "        vertical-align: top;\n",
       "    }\n",
       "</style>\n",
       "<table border=\"1\" class=\"dataframe\">\n",
       "  <thead>\n",
       "    <tr style=\"text-align: right;\">\n",
       "      <th></th>\n",
       "      <th>reviews</th>\n",
       "      <th>total_char_length</th>\n",
       "      <th>total_num_words</th>\n",
       "    </tr>\n",
       "  </thead>\n",
       "  <tbody>\n",
       "    <tr>\n",
       "      <th>0</th>\n",
       "      <td>the baguettes and rolls are excellent and alth...</td>\n",
       "      <td>3694</td>\n",
       "      <td>690</td>\n",
       "    </tr>\n",
       "    <tr>\n",
       "      <th>1</th>\n",
       "      <td>i live up the street from betty when my sister...</td>\n",
       "      <td>11662</td>\n",
       "      <td>2177</td>\n",
       "    </tr>\n",
       "    <tr>\n",
       "      <th>2</th>\n",
       "      <td>im worried about how i will review this place ...</td>\n",
       "      <td>10122</td>\n",
       "      <td>1935</td>\n",
       "    </tr>\n",
       "    <tr>\n",
       "      <th>3</th>\n",
       "      <td>why cant you access them on google street view...</td>\n",
       "      <td>28499</td>\n",
       "      <td>5264</td>\n",
       "    </tr>\n",
       "    <tr>\n",
       "      <th>4</th>\n",
       "      <td>things to like about this place homemade guaca...</td>\n",
       "      <td>4636</td>\n",
       "      <td>888</td>\n",
       "    </tr>\n",
       "  </tbody>\n",
       "</table>\n",
       "</div>"
      ],
      "text/plain": [
       "                                             reviews  total_char_length  \\\n",
       "0  the baguettes and rolls are excellent and alth...               3694   \n",
       "1  i live up the street from betty when my sister...              11662   \n",
       "2  im worried about how i will review this place ...              10122   \n",
       "3  why cant you access them on google street view...              28499   \n",
       "4  things to like about this place homemade guaca...               4636   \n",
       "\n",
       "   total_num_words  \n",
       "0              690  \n",
       "1             2177  \n",
       "2             1935  \n",
       "3             5264  \n",
       "4              888  "
      ]
     },
     "execution_count": 21,
     "metadata": {},
     "output_type": "execute_result"
    }
   ],
   "source": [
    "reviews_table.head()"
   ]
  },
  {
   "cell_type": "code",
   "execution_count": 22,
   "metadata": {},
   "outputs": [
    {
     "name": "stdout",
     "output_type": "stream",
     "text": [
      "CPU times: user 1min 27s, sys: 23.5 s, total: 1min 50s\n",
      "Wall time: 2min\n"
     ]
    },
    {
     "data": {
      "text/html": [
       "<div>\n",
       "<style>\n",
       "    .dataframe thead tr:only-child th {\n",
       "        text-align: right;\n",
       "    }\n",
       "\n",
       "    .dataframe thead th {\n",
       "        text-align: left;\n",
       "    }\n",
       "\n",
       "    .dataframe tbody tr th {\n",
       "        vertical-align: top;\n",
       "    }\n",
       "</style>\n",
       "<table border=\"1\" class=\"dataframe\">\n",
       "  <thead>\n",
       "    <tr style=\"text-align: right;\">\n",
       "      <th></th>\n",
       "      <th>good</th>\n",
       "      <th>food</th>\n",
       "      <th>place</th>\n",
       "      <th>like</th>\n",
       "      <th>great</th>\n",
       "      <th>just</th>\n",
       "      <th>really</th>\n",
       "      <th>service</th>\n",
       "      <th>time</th>\n",
       "      <th>dont</th>\n",
       "      <th>...</th>\n",
       "      <th>tried lots</th>\n",
       "      <th>park blocks</th>\n",
       "      <th>tried famous</th>\n",
       "      <th>fanatics</th>\n",
       "      <th>despair</th>\n",
       "      <th>reactions</th>\n",
       "      <th>fan usually</th>\n",
       "      <th>star worthy</th>\n",
       "      <th>parking challenging</th>\n",
       "      <th>different staff</th>\n",
       "    </tr>\n",
       "  </thead>\n",
       "  <tbody>\n",
       "    <tr>\n",
       "      <th>0</th>\n",
       "      <td>1</td>\n",
       "      <td>2</td>\n",
       "      <td>4</td>\n",
       "      <td>4</td>\n",
       "      <td>4</td>\n",
       "      <td>1</td>\n",
       "      <td>0</td>\n",
       "      <td>1</td>\n",
       "      <td>0</td>\n",
       "      <td>4</td>\n",
       "      <td>...</td>\n",
       "      <td>0</td>\n",
       "      <td>0</td>\n",
       "      <td>0</td>\n",
       "      <td>0</td>\n",
       "      <td>0</td>\n",
       "      <td>0</td>\n",
       "      <td>0</td>\n",
       "      <td>0</td>\n",
       "      <td>0</td>\n",
       "      <td>0</td>\n",
       "    </tr>\n",
       "    <tr>\n",
       "      <th>1</th>\n",
       "      <td>11</td>\n",
       "      <td>14</td>\n",
       "      <td>13</td>\n",
       "      <td>9</td>\n",
       "      <td>12</td>\n",
       "      <td>6</td>\n",
       "      <td>8</td>\n",
       "      <td>8</td>\n",
       "      <td>7</td>\n",
       "      <td>5</td>\n",
       "      <td>...</td>\n",
       "      <td>0</td>\n",
       "      <td>0</td>\n",
       "      <td>0</td>\n",
       "      <td>0</td>\n",
       "      <td>0</td>\n",
       "      <td>0</td>\n",
       "      <td>0</td>\n",
       "      <td>0</td>\n",
       "      <td>0</td>\n",
       "      <td>0</td>\n",
       "    </tr>\n",
       "    <tr>\n",
       "      <th>2</th>\n",
       "      <td>11</td>\n",
       "      <td>22</td>\n",
       "      <td>9</td>\n",
       "      <td>6</td>\n",
       "      <td>9</td>\n",
       "      <td>9</td>\n",
       "      <td>10</td>\n",
       "      <td>9</td>\n",
       "      <td>5</td>\n",
       "      <td>7</td>\n",
       "      <td>...</td>\n",
       "      <td>0</td>\n",
       "      <td>0</td>\n",
       "      <td>0</td>\n",
       "      <td>0</td>\n",
       "      <td>0</td>\n",
       "      <td>0</td>\n",
       "      <td>0</td>\n",
       "      <td>0</td>\n",
       "      <td>0</td>\n",
       "      <td>0</td>\n",
       "    </tr>\n",
       "    <tr>\n",
       "      <th>3</th>\n",
       "      <td>37</td>\n",
       "      <td>40</td>\n",
       "      <td>26</td>\n",
       "      <td>19</td>\n",
       "      <td>19</td>\n",
       "      <td>16</td>\n",
       "      <td>18</td>\n",
       "      <td>20</td>\n",
       "      <td>19</td>\n",
       "      <td>9</td>\n",
       "      <td>...</td>\n",
       "      <td>0</td>\n",
       "      <td>0</td>\n",
       "      <td>0</td>\n",
       "      <td>0</td>\n",
       "      <td>0</td>\n",
       "      <td>0</td>\n",
       "      <td>0</td>\n",
       "      <td>0</td>\n",
       "      <td>0</td>\n",
       "      <td>0</td>\n",
       "    </tr>\n",
       "    <tr>\n",
       "      <th>4</th>\n",
       "      <td>8</td>\n",
       "      <td>11</td>\n",
       "      <td>8</td>\n",
       "      <td>2</td>\n",
       "      <td>6</td>\n",
       "      <td>4</td>\n",
       "      <td>2</td>\n",
       "      <td>8</td>\n",
       "      <td>1</td>\n",
       "      <td>2</td>\n",
       "      <td>...</td>\n",
       "      <td>0</td>\n",
       "      <td>0</td>\n",
       "      <td>0</td>\n",
       "      <td>0</td>\n",
       "      <td>0</td>\n",
       "      <td>0</td>\n",
       "      <td>0</td>\n",
       "      <td>0</td>\n",
       "      <td>0</td>\n",
       "      <td>0</td>\n",
       "    </tr>\n",
       "  </tbody>\n",
       "</table>\n",
       "<p>5 rows × 56576 columns</p>\n",
       "</div>"
      ],
      "text/plain": [
       "   good  food  place  like  great  just  really  service  time  dont  \\\n",
       "0     1     2      4     4      4     1       0        1     0     4   \n",
       "1    11    14     13     9     12     6       8        8     7     5   \n",
       "2    11    22      9     6      9     9      10        9     5     7   \n",
       "3    37    40     26    19     19    16      18       20    19     9   \n",
       "4     8    11      8     2      6     4       2        8     1     2   \n",
       "\n",
       "        ...         tried lots  park blocks  tried famous  fanatics  despair  \\\n",
       "0       ...                  0            0             0         0        0   \n",
       "1       ...                  0            0             0         0        0   \n",
       "2       ...                  0            0             0         0        0   \n",
       "3       ...                  0            0             0         0        0   \n",
       "4       ...                  0            0             0         0        0   \n",
       "\n",
       "   reactions  fan usually  star worthy  parking challenging  different staff  \n",
       "0          0            0            0                    0                0  \n",
       "1          0            0            0                    0                0  \n",
       "2          0            0            0                    0                0  \n",
       "3          0            0            0                    0                0  \n",
       "4          0            0            0                    0                0  \n",
       "\n",
       "[5 rows x 56576 columns]"
      ]
     },
     "execution_count": 22,
     "metadata": {},
     "output_type": "execute_result"
    }
   ],
   "source": [
    "%time review_vocabulary = term_doc_matrix(reviews_table['reviews'], (1,2))\n",
    "review_vocabulary.head()"
   ]
  },
  {
   "cell_type": "code",
   "execution_count": 23,
   "metadata": {
    "collapsed": true
   },
   "outputs": [],
   "source": [
    "reviews_table=reviews_table.rename(columns = {'reviews': 'review_text'})"
   ]
  },
  {
   "cell_type": "code",
   "execution_count": 24,
   "metadata": {},
   "outputs": [
    {
     "data": {
      "text/html": [
       "<div>\n",
       "<style>\n",
       "    .dataframe thead tr:only-child th {\n",
       "        text-align: right;\n",
       "    }\n",
       "\n",
       "    .dataframe thead th {\n",
       "        text-align: left;\n",
       "    }\n",
       "\n",
       "    .dataframe tbody tr th {\n",
       "        vertical-align: top;\n",
       "    }\n",
       "</style>\n",
       "<table border=\"1\" class=\"dataframe\">\n",
       "  <thead>\n",
       "    <tr style=\"text-align: right;\">\n",
       "      <th></th>\n",
       "      <th>review_text</th>\n",
       "      <th>total_char_length</th>\n",
       "      <th>total_num_words</th>\n",
       "      <th>good</th>\n",
       "      <th>food</th>\n",
       "      <th>place</th>\n",
       "      <th>like</th>\n",
       "      <th>great</th>\n",
       "      <th>just</th>\n",
       "      <th>really</th>\n",
       "      <th>...</th>\n",
       "      <th>tried lots</th>\n",
       "      <th>park blocks</th>\n",
       "      <th>tried famous</th>\n",
       "      <th>fanatics</th>\n",
       "      <th>despair</th>\n",
       "      <th>reactions</th>\n",
       "      <th>fan usually</th>\n",
       "      <th>star worthy</th>\n",
       "      <th>parking challenging</th>\n",
       "      <th>different staff</th>\n",
       "    </tr>\n",
       "  </thead>\n",
       "  <tbody>\n",
       "    <tr>\n",
       "      <th>0</th>\n",
       "      <td>the baguettes and rolls are excellent and alth...</td>\n",
       "      <td>3694</td>\n",
       "      <td>690</td>\n",
       "      <td>1</td>\n",
       "      <td>2</td>\n",
       "      <td>4</td>\n",
       "      <td>4</td>\n",
       "      <td>4</td>\n",
       "      <td>1</td>\n",
       "      <td>0</td>\n",
       "      <td>...</td>\n",
       "      <td>0</td>\n",
       "      <td>0</td>\n",
       "      <td>0</td>\n",
       "      <td>0</td>\n",
       "      <td>0</td>\n",
       "      <td>0</td>\n",
       "      <td>0</td>\n",
       "      <td>0</td>\n",
       "      <td>0</td>\n",
       "      <td>0</td>\n",
       "    </tr>\n",
       "    <tr>\n",
       "      <th>1</th>\n",
       "      <td>i live up the street from betty when my sister...</td>\n",
       "      <td>11662</td>\n",
       "      <td>2177</td>\n",
       "      <td>11</td>\n",
       "      <td>14</td>\n",
       "      <td>13</td>\n",
       "      <td>9</td>\n",
       "      <td>12</td>\n",
       "      <td>6</td>\n",
       "      <td>8</td>\n",
       "      <td>...</td>\n",
       "      <td>0</td>\n",
       "      <td>0</td>\n",
       "      <td>0</td>\n",
       "      <td>0</td>\n",
       "      <td>0</td>\n",
       "      <td>0</td>\n",
       "      <td>0</td>\n",
       "      <td>0</td>\n",
       "      <td>0</td>\n",
       "      <td>0</td>\n",
       "    </tr>\n",
       "    <tr>\n",
       "      <th>2</th>\n",
       "      <td>im worried about how i will review this place ...</td>\n",
       "      <td>10122</td>\n",
       "      <td>1935</td>\n",
       "      <td>11</td>\n",
       "      <td>22</td>\n",
       "      <td>9</td>\n",
       "      <td>6</td>\n",
       "      <td>9</td>\n",
       "      <td>9</td>\n",
       "      <td>10</td>\n",
       "      <td>...</td>\n",
       "      <td>0</td>\n",
       "      <td>0</td>\n",
       "      <td>0</td>\n",
       "      <td>0</td>\n",
       "      <td>0</td>\n",
       "      <td>0</td>\n",
       "      <td>0</td>\n",
       "      <td>0</td>\n",
       "      <td>0</td>\n",
       "      <td>0</td>\n",
       "    </tr>\n",
       "    <tr>\n",
       "      <th>3</th>\n",
       "      <td>why cant you access them on google street view...</td>\n",
       "      <td>28499</td>\n",
       "      <td>5264</td>\n",
       "      <td>37</td>\n",
       "      <td>40</td>\n",
       "      <td>26</td>\n",
       "      <td>19</td>\n",
       "      <td>19</td>\n",
       "      <td>16</td>\n",
       "      <td>18</td>\n",
       "      <td>...</td>\n",
       "      <td>0</td>\n",
       "      <td>0</td>\n",
       "      <td>0</td>\n",
       "      <td>0</td>\n",
       "      <td>0</td>\n",
       "      <td>0</td>\n",
       "      <td>0</td>\n",
       "      <td>0</td>\n",
       "      <td>0</td>\n",
       "      <td>0</td>\n",
       "    </tr>\n",
       "    <tr>\n",
       "      <th>4</th>\n",
       "      <td>things to like about this place homemade guaca...</td>\n",
       "      <td>4636</td>\n",
       "      <td>888</td>\n",
       "      <td>8</td>\n",
       "      <td>11</td>\n",
       "      <td>8</td>\n",
       "      <td>2</td>\n",
       "      <td>6</td>\n",
       "      <td>4</td>\n",
       "      <td>2</td>\n",
       "      <td>...</td>\n",
       "      <td>0</td>\n",
       "      <td>0</td>\n",
       "      <td>0</td>\n",
       "      <td>0</td>\n",
       "      <td>0</td>\n",
       "      <td>0</td>\n",
       "      <td>0</td>\n",
       "      <td>0</td>\n",
       "      <td>0</td>\n",
       "      <td>0</td>\n",
       "    </tr>\n",
       "  </tbody>\n",
       "</table>\n",
       "<p>5 rows × 56579 columns</p>\n",
       "</div>"
      ],
      "text/plain": [
       "                                         review_text  total_char_length  \\\n",
       "0  the baguettes and rolls are excellent and alth...               3694   \n",
       "1  i live up the street from betty when my sister...              11662   \n",
       "2  im worried about how i will review this place ...              10122   \n",
       "3  why cant you access them on google street view...              28499   \n",
       "4  things to like about this place homemade guaca...               4636   \n",
       "\n",
       "   total_num_words  good  food  place  like  great  just  really  \\\n",
       "0              690     1     2      4     4      4     1       0   \n",
       "1             2177    11    14     13     9     12     6       8   \n",
       "2             1935    11    22      9     6      9     9      10   \n",
       "3             5264    37    40     26    19     19    16      18   \n",
       "4              888     8    11      8     2      6     4       2   \n",
       "\n",
       "        ...         tried lots  park blocks  tried famous  fanatics  despair  \\\n",
       "0       ...                  0            0             0         0        0   \n",
       "1       ...                  0            0             0         0        0   \n",
       "2       ...                  0            0             0         0        0   \n",
       "3       ...                  0            0             0         0        0   \n",
       "4       ...                  0            0             0         0        0   \n",
       "\n",
       "   reactions  fan usually  star worthy  parking challenging  different staff  \n",
       "0          0            0            0                    0                0  \n",
       "1          0            0            0                    0                0  \n",
       "2          0            0            0                    0                0  \n",
       "3          0            0            0                    0                0  \n",
       "4          0            0            0                    0                0  \n",
       "\n",
       "[5 rows x 56579 columns]"
      ]
     },
     "execution_count": 24,
     "metadata": {},
     "output_type": "execute_result"
    }
   ],
   "source": [
    "reviews_table = reviews_table.join(review_vocabulary)\n",
    "reviews_table.head()"
   ]
  },
  {
   "cell_type": "markdown",
   "metadata": {},
   "source": [
    "## compute part of speech tags for each review"
   ]
  },
  {
   "cell_type": "code",
   "execution_count": 25,
   "metadata": {
    "collapsed": true
   },
   "outputs": [],
   "source": [
    "#review_0.tags"
   ]
  },
  {
   "cell_type": "code",
   "execution_count": 26,
   "metadata": {
    "collapsed": true
   },
   "outputs": [],
   "source": [
    "#df_temp = pd.DataFrame()"
   ]
  },
  {
   "cell_type": "code",
   "execution_count": 27,
   "metadata": {
    "collapsed": true
   },
   "outputs": [],
   "source": [
    "#test_0 = pd.DataFrame(review_0.tags, columns = [0, 'pos'])"
   ]
  },
  {
   "cell_type": "code",
   "execution_count": 28,
   "metadata": {
    "collapsed": true
   },
   "outputs": [],
   "source": [
    "#test_0.head()"
   ]
  },
  {
   "cell_type": "code",
   "execution_count": 29,
   "metadata": {
    "collapsed": true
   },
   "outputs": [],
   "source": [
    "#df_temp = df_temp.append(test_0.groupby('pos').count().T)\n",
    "#df_temp"
   ]
  },
  {
   "cell_type": "code",
   "execution_count": 30,
   "metadata": {
    "collapsed": true
   },
   "outputs": [],
   "source": [
    "#review_pos_freq = pos_freq(reviews_table['reviews'])"
   ]
  },
  {
   "cell_type": "code",
   "execution_count": 31,
   "metadata": {
    "collapsed": true
   },
   "outputs": [],
   "source": [
    "#review_pos_freq.head()"
   ]
  },
  {
   "cell_type": "code",
   "execution_count": 32,
   "metadata": {
    "collapsed": true
   },
   "outputs": [],
   "source": [
    "#reviews_table = reviews_table.join(review_pos_freq)"
   ]
  },
  {
   "cell_type": "code",
   "execution_count": 33,
   "metadata": {
    "collapsed": true
   },
   "outputs": [],
   "source": [
    "def pos_freq(reviews):\n",
    "    pos_reviews = []\n",
    "    index_reviews = []\n",
    "    for index, text in reviews.iteritems():\n",
    "        text_blob = tb.TextBlob(text)\n",
    "        pos_reviews.append(text_blob.tags)\n",
    "        index_reviews.append(index)\n",
    "        \n",
    "    pos_column = pd.DataFrame()\n",
    "    for i in range(0, len(pos_reviews)):\n",
    "        pos_tag_review = pd.DataFrame(pos_reviews[i], columns = [i, 'pos_tag'])\n",
    "        pos_column = pos_column.append(pos_tag_review.groupby('pos_tag').count().T)\n",
    "    pos_column = pos_column.reset_index(drop=True).fillna(0)\n",
    "    return pos_column"
   ]
  },
  {
   "cell_type": "code",
   "execution_count": 34,
   "metadata": {},
   "outputs": [
    {
     "data": {
      "text/plain": [
       "0    the baguettes and rolls are excellent and alth...\n",
       "1    i live up the street from betty when my sister...\n",
       "2    im worried about how i will review this place ...\n",
       "3    why cant you access them on google street view...\n",
       "4    things to like about this place homemade guaca...\n",
       "Name: review_text, dtype: object"
      ]
     },
     "execution_count": 34,
     "metadata": {},
     "output_type": "execute_result"
    }
   ],
   "source": [
    "reviews_table['review_text'].head()"
   ]
  },
  {
   "cell_type": "code",
   "execution_count": 35,
   "metadata": {
    "collapsed": true
   },
   "outputs": [],
   "source": [
    "review_pos_freq = pos_freq(reviews_table['review_text'])"
   ]
  },
  {
   "cell_type": "code",
   "execution_count": 36,
   "metadata": {},
   "outputs": [
    {
     "data": {
      "text/html": [
       "<div>\n",
       "<style>\n",
       "    .dataframe thead tr:only-child th {\n",
       "        text-align: right;\n",
       "    }\n",
       "\n",
       "    .dataframe thead th {\n",
       "        text-align: left;\n",
       "    }\n",
       "\n",
       "    .dataframe tbody tr th {\n",
       "        vertical-align: top;\n",
       "    }\n",
       "</style>\n",
       "<table border=\"1\" class=\"dataframe\">\n",
       "  <thead>\n",
       "    <tr style=\"text-align: right;\">\n",
       "      <th></th>\n",
       "      <th>CC</th>\n",
       "      <th>CD</th>\n",
       "      <th>DT</th>\n",
       "      <th>EX</th>\n",
       "      <th>FW</th>\n",
       "      <th>IN</th>\n",
       "      <th>JJ</th>\n",
       "      <th>JJR</th>\n",
       "      <th>JJS</th>\n",
       "      <th>MD</th>\n",
       "      <th>...</th>\n",
       "      <th>VB</th>\n",
       "      <th>VBD</th>\n",
       "      <th>VBG</th>\n",
       "      <th>VBN</th>\n",
       "      <th>VBP</th>\n",
       "      <th>VBZ</th>\n",
       "      <th>WDT</th>\n",
       "      <th>WP</th>\n",
       "      <th>WP$</th>\n",
       "      <th>WRB</th>\n",
       "    </tr>\n",
       "  </thead>\n",
       "  <tbody>\n",
       "    <tr>\n",
       "      <th>0</th>\n",
       "      <td>30.0</td>\n",
       "      <td>8.0</td>\n",
       "      <td>64.0</td>\n",
       "      <td>3.0</td>\n",
       "      <td>0.0</td>\n",
       "      <td>81.0</td>\n",
       "      <td>89.0</td>\n",
       "      <td>4.0</td>\n",
       "      <td>1.0</td>\n",
       "      <td>3.0</td>\n",
       "      <td>...</td>\n",
       "      <td>20.0</td>\n",
       "      <td>23.0</td>\n",
       "      <td>11.0</td>\n",
       "      <td>13.0</td>\n",
       "      <td>32.0</td>\n",
       "      <td>19.0</td>\n",
       "      <td>2.0</td>\n",
       "      <td>0.0</td>\n",
       "      <td>0.0</td>\n",
       "      <td>4.0</td>\n",
       "    </tr>\n",
       "    <tr>\n",
       "      <th>1</th>\n",
       "      <td>97.0</td>\n",
       "      <td>18.0</td>\n",
       "      <td>232.0</td>\n",
       "      <td>2.0</td>\n",
       "      <td>0.0</td>\n",
       "      <td>233.0</td>\n",
       "      <td>245.0</td>\n",
       "      <td>2.0</td>\n",
       "      <td>4.0</td>\n",
       "      <td>19.0</td>\n",
       "      <td>...</td>\n",
       "      <td>63.0</td>\n",
       "      <td>137.0</td>\n",
       "      <td>34.0</td>\n",
       "      <td>49.0</td>\n",
       "      <td>61.0</td>\n",
       "      <td>58.0</td>\n",
       "      <td>11.0</td>\n",
       "      <td>7.0</td>\n",
       "      <td>0.0</td>\n",
       "      <td>14.0</td>\n",
       "    </tr>\n",
       "    <tr>\n",
       "      <th>2</th>\n",
       "      <td>104.0</td>\n",
       "      <td>20.0</td>\n",
       "      <td>197.0</td>\n",
       "      <td>2.0</td>\n",
       "      <td>2.0</td>\n",
       "      <td>182.0</td>\n",
       "      <td>203.0</td>\n",
       "      <td>10.0</td>\n",
       "      <td>6.0</td>\n",
       "      <td>30.0</td>\n",
       "      <td>...</td>\n",
       "      <td>80.0</td>\n",
       "      <td>113.0</td>\n",
       "      <td>24.0</td>\n",
       "      <td>36.0</td>\n",
       "      <td>62.0</td>\n",
       "      <td>43.0</td>\n",
       "      <td>9.0</td>\n",
       "      <td>6.0</td>\n",
       "      <td>0.0</td>\n",
       "      <td>14.0</td>\n",
       "    </tr>\n",
       "    <tr>\n",
       "      <th>3</th>\n",
       "      <td>245.0</td>\n",
       "      <td>56.0</td>\n",
       "      <td>538.0</td>\n",
       "      <td>11.0</td>\n",
       "      <td>6.0</td>\n",
       "      <td>528.0</td>\n",
       "      <td>582.0</td>\n",
       "      <td>17.0</td>\n",
       "      <td>30.0</td>\n",
       "      <td>54.0</td>\n",
       "      <td>...</td>\n",
       "      <td>187.0</td>\n",
       "      <td>343.0</td>\n",
       "      <td>68.0</td>\n",
       "      <td>109.0</td>\n",
       "      <td>148.0</td>\n",
       "      <td>109.0</td>\n",
       "      <td>30.0</td>\n",
       "      <td>13.0</td>\n",
       "      <td>0.0</td>\n",
       "      <td>20.0</td>\n",
       "    </tr>\n",
       "    <tr>\n",
       "      <th>4</th>\n",
       "      <td>35.0</td>\n",
       "      <td>16.0</td>\n",
       "      <td>83.0</td>\n",
       "      <td>0.0</td>\n",
       "      <td>4.0</td>\n",
       "      <td>93.0</td>\n",
       "      <td>93.0</td>\n",
       "      <td>3.0</td>\n",
       "      <td>3.0</td>\n",
       "      <td>8.0</td>\n",
       "      <td>...</td>\n",
       "      <td>37.0</td>\n",
       "      <td>43.0</td>\n",
       "      <td>7.0</td>\n",
       "      <td>17.0</td>\n",
       "      <td>32.0</td>\n",
       "      <td>22.0</td>\n",
       "      <td>4.0</td>\n",
       "      <td>3.0</td>\n",
       "      <td>0.0</td>\n",
       "      <td>2.0</td>\n",
       "    </tr>\n",
       "  </tbody>\n",
       "</table>\n",
       "<p>5 rows × 35 columns</p>\n",
       "</div>"
      ],
      "text/plain": [
       "      CC    CD     DT    EX   FW     IN     JJ   JJR   JJS    MD  ...      VB  \\\n",
       "0   30.0   8.0   64.0   3.0  0.0   81.0   89.0   4.0   1.0   3.0  ...    20.0   \n",
       "1   97.0  18.0  232.0   2.0  0.0  233.0  245.0   2.0   4.0  19.0  ...    63.0   \n",
       "2  104.0  20.0  197.0   2.0  2.0  182.0  203.0  10.0   6.0  30.0  ...    80.0   \n",
       "3  245.0  56.0  538.0  11.0  6.0  528.0  582.0  17.0  30.0  54.0  ...   187.0   \n",
       "4   35.0  16.0   83.0   0.0  4.0   93.0   93.0   3.0   3.0   8.0  ...    37.0   \n",
       "\n",
       "     VBD   VBG    VBN    VBP    VBZ   WDT    WP  WP$   WRB  \n",
       "0   23.0  11.0   13.0   32.0   19.0   2.0   0.0  0.0   4.0  \n",
       "1  137.0  34.0   49.0   61.0   58.0  11.0   7.0  0.0  14.0  \n",
       "2  113.0  24.0   36.0   62.0   43.0   9.0   6.0  0.0  14.0  \n",
       "3  343.0  68.0  109.0  148.0  109.0  30.0  13.0  0.0  20.0  \n",
       "4   43.0   7.0   17.0   32.0   22.0   4.0   3.0  0.0   2.0  \n",
       "\n",
       "[5 rows x 35 columns]"
      ]
     },
     "execution_count": 36,
     "metadata": {},
     "output_type": "execute_result"
    }
   ],
   "source": [
    "review_pos_freq.head()"
   ]
  },
  {
   "cell_type": "code",
   "execution_count": 37,
   "metadata": {},
   "outputs": [
    {
     "data": {
      "text/html": [
       "<div>\n",
       "<style>\n",
       "    .dataframe thead tr:only-child th {\n",
       "        text-align: right;\n",
       "    }\n",
       "\n",
       "    .dataframe thead th {\n",
       "        text-align: left;\n",
       "    }\n",
       "\n",
       "    .dataframe tbody tr th {\n",
       "        vertical-align: top;\n",
       "    }\n",
       "</style>\n",
       "<table border=\"1\" class=\"dataframe\">\n",
       "  <thead>\n",
       "    <tr style=\"text-align: right;\">\n",
       "      <th></th>\n",
       "      <th>review_text</th>\n",
       "      <th>total_char_length</th>\n",
       "      <th>total_num_words</th>\n",
       "      <th>good</th>\n",
       "      <th>food</th>\n",
       "      <th>place</th>\n",
       "      <th>like</th>\n",
       "      <th>great</th>\n",
       "      <th>just</th>\n",
       "      <th>really</th>\n",
       "      <th>...</th>\n",
       "      <th>VB</th>\n",
       "      <th>VBD</th>\n",
       "      <th>VBG</th>\n",
       "      <th>VBN</th>\n",
       "      <th>VBP</th>\n",
       "      <th>VBZ</th>\n",
       "      <th>WDT</th>\n",
       "      <th>WP</th>\n",
       "      <th>WP$</th>\n",
       "      <th>WRB</th>\n",
       "    </tr>\n",
       "  </thead>\n",
       "  <tbody>\n",
       "    <tr>\n",
       "      <th>0</th>\n",
       "      <td>the baguettes and rolls are excellent and alth...</td>\n",
       "      <td>3694</td>\n",
       "      <td>690</td>\n",
       "      <td>1</td>\n",
       "      <td>2</td>\n",
       "      <td>4</td>\n",
       "      <td>4</td>\n",
       "      <td>4</td>\n",
       "      <td>1</td>\n",
       "      <td>0</td>\n",
       "      <td>...</td>\n",
       "      <td>20.0</td>\n",
       "      <td>23.0</td>\n",
       "      <td>11.0</td>\n",
       "      <td>13.0</td>\n",
       "      <td>32.0</td>\n",
       "      <td>19.0</td>\n",
       "      <td>2.0</td>\n",
       "      <td>0.0</td>\n",
       "      <td>0.0</td>\n",
       "      <td>4.0</td>\n",
       "    </tr>\n",
       "    <tr>\n",
       "      <th>1</th>\n",
       "      <td>i live up the street from betty when my sister...</td>\n",
       "      <td>11662</td>\n",
       "      <td>2177</td>\n",
       "      <td>11</td>\n",
       "      <td>14</td>\n",
       "      <td>13</td>\n",
       "      <td>9</td>\n",
       "      <td>12</td>\n",
       "      <td>6</td>\n",
       "      <td>8</td>\n",
       "      <td>...</td>\n",
       "      <td>63.0</td>\n",
       "      <td>137.0</td>\n",
       "      <td>34.0</td>\n",
       "      <td>49.0</td>\n",
       "      <td>61.0</td>\n",
       "      <td>58.0</td>\n",
       "      <td>11.0</td>\n",
       "      <td>7.0</td>\n",
       "      <td>0.0</td>\n",
       "      <td>14.0</td>\n",
       "    </tr>\n",
       "    <tr>\n",
       "      <th>2</th>\n",
       "      <td>im worried about how i will review this place ...</td>\n",
       "      <td>10122</td>\n",
       "      <td>1935</td>\n",
       "      <td>11</td>\n",
       "      <td>22</td>\n",
       "      <td>9</td>\n",
       "      <td>6</td>\n",
       "      <td>9</td>\n",
       "      <td>9</td>\n",
       "      <td>10</td>\n",
       "      <td>...</td>\n",
       "      <td>80.0</td>\n",
       "      <td>113.0</td>\n",
       "      <td>24.0</td>\n",
       "      <td>36.0</td>\n",
       "      <td>62.0</td>\n",
       "      <td>43.0</td>\n",
       "      <td>9.0</td>\n",
       "      <td>6.0</td>\n",
       "      <td>0.0</td>\n",
       "      <td>14.0</td>\n",
       "    </tr>\n",
       "    <tr>\n",
       "      <th>3</th>\n",
       "      <td>why cant you access them on google street view...</td>\n",
       "      <td>28499</td>\n",
       "      <td>5264</td>\n",
       "      <td>37</td>\n",
       "      <td>40</td>\n",
       "      <td>26</td>\n",
       "      <td>19</td>\n",
       "      <td>19</td>\n",
       "      <td>16</td>\n",
       "      <td>18</td>\n",
       "      <td>...</td>\n",
       "      <td>187.0</td>\n",
       "      <td>343.0</td>\n",
       "      <td>68.0</td>\n",
       "      <td>109.0</td>\n",
       "      <td>148.0</td>\n",
       "      <td>109.0</td>\n",
       "      <td>30.0</td>\n",
       "      <td>13.0</td>\n",
       "      <td>0.0</td>\n",
       "      <td>20.0</td>\n",
       "    </tr>\n",
       "    <tr>\n",
       "      <th>4</th>\n",
       "      <td>things to like about this place homemade guaca...</td>\n",
       "      <td>4636</td>\n",
       "      <td>888</td>\n",
       "      <td>8</td>\n",
       "      <td>11</td>\n",
       "      <td>8</td>\n",
       "      <td>2</td>\n",
       "      <td>6</td>\n",
       "      <td>4</td>\n",
       "      <td>2</td>\n",
       "      <td>...</td>\n",
       "      <td>37.0</td>\n",
       "      <td>43.0</td>\n",
       "      <td>7.0</td>\n",
       "      <td>17.0</td>\n",
       "      <td>32.0</td>\n",
       "      <td>22.0</td>\n",
       "      <td>4.0</td>\n",
       "      <td>3.0</td>\n",
       "      <td>0.0</td>\n",
       "      <td>2.0</td>\n",
       "    </tr>\n",
       "  </tbody>\n",
       "</table>\n",
       "<p>5 rows × 56614 columns</p>\n",
       "</div>"
      ],
      "text/plain": [
       "                                         review_text  total_char_length  \\\n",
       "0  the baguettes and rolls are excellent and alth...               3694   \n",
       "1  i live up the street from betty when my sister...              11662   \n",
       "2  im worried about how i will review this place ...              10122   \n",
       "3  why cant you access them on google street view...              28499   \n",
       "4  things to like about this place homemade guaca...               4636   \n",
       "\n",
       "   total_num_words  good  food  place  like  great  just  really  ...      VB  \\\n",
       "0              690     1     2      4     4      4     1       0  ...    20.0   \n",
       "1             2177    11    14     13     9     12     6       8  ...    63.0   \n",
       "2             1935    11    22      9     6      9     9      10  ...    80.0   \n",
       "3             5264    37    40     26    19     19    16      18  ...   187.0   \n",
       "4              888     8    11      8     2      6     4       2  ...    37.0   \n",
       "\n",
       "     VBD   VBG    VBN    VBP    VBZ   WDT    WP  WP$   WRB  \n",
       "0   23.0  11.0   13.0   32.0   19.0   2.0   0.0  0.0   4.0  \n",
       "1  137.0  34.0   49.0   61.0   58.0  11.0   7.0  0.0  14.0  \n",
       "2  113.0  24.0   36.0   62.0   43.0   9.0   6.0  0.0  14.0  \n",
       "3  343.0  68.0  109.0  148.0  109.0  30.0  13.0  0.0  20.0  \n",
       "4   43.0   7.0   17.0   32.0   22.0   4.0   3.0  0.0   2.0  \n",
       "\n",
       "[5 rows x 56614 columns]"
      ]
     },
     "execution_count": 37,
     "metadata": {},
     "output_type": "execute_result"
    }
   ],
   "source": [
    "reviews_table = reviews_table.join(review_pos_freq)\n",
    "reviews_table.head()"
   ]
  },
  {
   "cell_type": "markdown",
   "metadata": {},
   "source": [
    "## compute sentiment (polarity and subjectivity) for each review"
   ]
  },
  {
   "cell_type": "code",
   "execution_count": 38,
   "metadata": {
    "collapsed": true
   },
   "outputs": [],
   "source": [
    "# this is a function that calculates polarity and subjectivity of a concatenated review.\n",
    "def sentiment(reviews):\n",
    "    \n",
    "    sentiment_reviews = []\n",
    "    index_reviews = []\n",
    "    for index, text in reviews.iteritems():\n",
    "        text_blob = tb.TextBlob(text)\n",
    "        sentiment_reviews.append(text_blob.sentiment)\n",
    "        index_reviews.append(index)\n",
    "    \n",
    "    sentiment_column = pd.DataFrame(sentiment_reviews, \n",
    "                                    columns = ['polarity', 'subjectivity'],\n",
    "                                    index = index_reviews)\n",
    "    return sentiment_column   "
   ]
  },
  {
   "cell_type": "code",
   "execution_count": 39,
   "metadata": {},
   "outputs": [
    {
     "data": {
      "text/html": [
       "<div>\n",
       "<style>\n",
       "    .dataframe thead tr:only-child th {\n",
       "        text-align: right;\n",
       "    }\n",
       "\n",
       "    .dataframe thead th {\n",
       "        text-align: left;\n",
       "    }\n",
       "\n",
       "    .dataframe tbody tr th {\n",
       "        vertical-align: top;\n",
       "    }\n",
       "</style>\n",
       "<table border=\"1\" class=\"dataframe\">\n",
       "  <thead>\n",
       "    <tr style=\"text-align: right;\">\n",
       "      <th></th>\n",
       "      <th>polarity</th>\n",
       "      <th>subjectivity</th>\n",
       "    </tr>\n",
       "  </thead>\n",
       "  <tbody>\n",
       "    <tr>\n",
       "      <th>0</th>\n",
       "      <td>0.160625</td>\n",
       "      <td>0.578656</td>\n",
       "    </tr>\n",
       "    <tr>\n",
       "      <th>1</th>\n",
       "      <td>0.182132</td>\n",
       "      <td>0.623393</td>\n",
       "    </tr>\n",
       "    <tr>\n",
       "      <th>2</th>\n",
       "      <td>0.149712</td>\n",
       "      <td>0.563289</td>\n",
       "    </tr>\n",
       "    <tr>\n",
       "      <th>3</th>\n",
       "      <td>0.261486</td>\n",
       "      <td>0.568099</td>\n",
       "    </tr>\n",
       "    <tr>\n",
       "      <th>4</th>\n",
       "      <td>0.195297</td>\n",
       "      <td>0.550908</td>\n",
       "    </tr>\n",
       "  </tbody>\n",
       "</table>\n",
       "</div>"
      ],
      "text/plain": [
       "   polarity  subjectivity\n",
       "0  0.160625      0.578656\n",
       "1  0.182132      0.623393\n",
       "2  0.149712      0.563289\n",
       "3  0.261486      0.568099\n",
       "4  0.195297      0.550908"
      ]
     },
     "execution_count": 39,
     "metadata": {},
     "output_type": "execute_result"
    }
   ],
   "source": [
    "review_sentiment = sentiment(reviews_table['review_text'])\n",
    "review_sentiment.head()"
   ]
  },
  {
   "cell_type": "code",
   "execution_count": 40,
   "metadata": {},
   "outputs": [
    {
     "data": {
      "text/html": [
       "<div>\n",
       "<style>\n",
       "    .dataframe thead tr:only-child th {\n",
       "        text-align: right;\n",
       "    }\n",
       "\n",
       "    .dataframe thead th {\n",
       "        text-align: left;\n",
       "    }\n",
       "\n",
       "    .dataframe tbody tr th {\n",
       "        vertical-align: top;\n",
       "    }\n",
       "</style>\n",
       "<table border=\"1\" class=\"dataframe\">\n",
       "  <thead>\n",
       "    <tr style=\"text-align: right;\">\n",
       "      <th></th>\n",
       "      <th>review_text</th>\n",
       "      <th>total_char_length</th>\n",
       "      <th>total_num_words</th>\n",
       "      <th>good</th>\n",
       "      <th>food</th>\n",
       "      <th>place</th>\n",
       "      <th>like</th>\n",
       "      <th>great</th>\n",
       "      <th>just</th>\n",
       "      <th>really</th>\n",
       "      <th>...</th>\n",
       "      <th>VBG</th>\n",
       "      <th>VBN</th>\n",
       "      <th>VBP</th>\n",
       "      <th>VBZ</th>\n",
       "      <th>WDT</th>\n",
       "      <th>WP</th>\n",
       "      <th>WP$</th>\n",
       "      <th>WRB</th>\n",
       "      <th>polarity</th>\n",
       "      <th>subjectivity</th>\n",
       "    </tr>\n",
       "  </thead>\n",
       "  <tbody>\n",
       "    <tr>\n",
       "      <th>0</th>\n",
       "      <td>the baguettes and rolls are excellent and alth...</td>\n",
       "      <td>3694</td>\n",
       "      <td>690</td>\n",
       "      <td>1</td>\n",
       "      <td>2</td>\n",
       "      <td>4</td>\n",
       "      <td>4</td>\n",
       "      <td>4</td>\n",
       "      <td>1</td>\n",
       "      <td>0</td>\n",
       "      <td>...</td>\n",
       "      <td>11.0</td>\n",
       "      <td>13.0</td>\n",
       "      <td>32.0</td>\n",
       "      <td>19.0</td>\n",
       "      <td>2.0</td>\n",
       "      <td>0.0</td>\n",
       "      <td>0.0</td>\n",
       "      <td>4.0</td>\n",
       "      <td>0.160625</td>\n",
       "      <td>0.578656</td>\n",
       "    </tr>\n",
       "    <tr>\n",
       "      <th>1</th>\n",
       "      <td>i live up the street from betty when my sister...</td>\n",
       "      <td>11662</td>\n",
       "      <td>2177</td>\n",
       "      <td>11</td>\n",
       "      <td>14</td>\n",
       "      <td>13</td>\n",
       "      <td>9</td>\n",
       "      <td>12</td>\n",
       "      <td>6</td>\n",
       "      <td>8</td>\n",
       "      <td>...</td>\n",
       "      <td>34.0</td>\n",
       "      <td>49.0</td>\n",
       "      <td>61.0</td>\n",
       "      <td>58.0</td>\n",
       "      <td>11.0</td>\n",
       "      <td>7.0</td>\n",
       "      <td>0.0</td>\n",
       "      <td>14.0</td>\n",
       "      <td>0.182132</td>\n",
       "      <td>0.623393</td>\n",
       "    </tr>\n",
       "    <tr>\n",
       "      <th>2</th>\n",
       "      <td>im worried about how i will review this place ...</td>\n",
       "      <td>10122</td>\n",
       "      <td>1935</td>\n",
       "      <td>11</td>\n",
       "      <td>22</td>\n",
       "      <td>9</td>\n",
       "      <td>6</td>\n",
       "      <td>9</td>\n",
       "      <td>9</td>\n",
       "      <td>10</td>\n",
       "      <td>...</td>\n",
       "      <td>24.0</td>\n",
       "      <td>36.0</td>\n",
       "      <td>62.0</td>\n",
       "      <td>43.0</td>\n",
       "      <td>9.0</td>\n",
       "      <td>6.0</td>\n",
       "      <td>0.0</td>\n",
       "      <td>14.0</td>\n",
       "      <td>0.149712</td>\n",
       "      <td>0.563289</td>\n",
       "    </tr>\n",
       "    <tr>\n",
       "      <th>3</th>\n",
       "      <td>why cant you access them on google street view...</td>\n",
       "      <td>28499</td>\n",
       "      <td>5264</td>\n",
       "      <td>37</td>\n",
       "      <td>40</td>\n",
       "      <td>26</td>\n",
       "      <td>19</td>\n",
       "      <td>19</td>\n",
       "      <td>16</td>\n",
       "      <td>18</td>\n",
       "      <td>...</td>\n",
       "      <td>68.0</td>\n",
       "      <td>109.0</td>\n",
       "      <td>148.0</td>\n",
       "      <td>109.0</td>\n",
       "      <td>30.0</td>\n",
       "      <td>13.0</td>\n",
       "      <td>0.0</td>\n",
       "      <td>20.0</td>\n",
       "      <td>0.261486</td>\n",
       "      <td>0.568099</td>\n",
       "    </tr>\n",
       "    <tr>\n",
       "      <th>4</th>\n",
       "      <td>things to like about this place homemade guaca...</td>\n",
       "      <td>4636</td>\n",
       "      <td>888</td>\n",
       "      <td>8</td>\n",
       "      <td>11</td>\n",
       "      <td>8</td>\n",
       "      <td>2</td>\n",
       "      <td>6</td>\n",
       "      <td>4</td>\n",
       "      <td>2</td>\n",
       "      <td>...</td>\n",
       "      <td>7.0</td>\n",
       "      <td>17.0</td>\n",
       "      <td>32.0</td>\n",
       "      <td>22.0</td>\n",
       "      <td>4.0</td>\n",
       "      <td>3.0</td>\n",
       "      <td>0.0</td>\n",
       "      <td>2.0</td>\n",
       "      <td>0.195297</td>\n",
       "      <td>0.550908</td>\n",
       "    </tr>\n",
       "  </tbody>\n",
       "</table>\n",
       "<p>5 rows × 56616 columns</p>\n",
       "</div>"
      ],
      "text/plain": [
       "                                         review_text  total_char_length  \\\n",
       "0  the baguettes and rolls are excellent and alth...               3694   \n",
       "1  i live up the street from betty when my sister...              11662   \n",
       "2  im worried about how i will review this place ...              10122   \n",
       "3  why cant you access them on google street view...              28499   \n",
       "4  things to like about this place homemade guaca...               4636   \n",
       "\n",
       "   total_num_words  good  food  place  like  great  just  really  \\\n",
       "0              690     1     2      4     4      4     1       0   \n",
       "1             2177    11    14     13     9     12     6       8   \n",
       "2             1935    11    22      9     6      9     9      10   \n",
       "3             5264    37    40     26    19     19    16      18   \n",
       "4              888     8    11      8     2      6     4       2   \n",
       "\n",
       "       ...        VBG    VBN    VBP    VBZ   WDT    WP  WP$   WRB  polarity  \\\n",
       "0      ...       11.0   13.0   32.0   19.0   2.0   0.0  0.0   4.0  0.160625   \n",
       "1      ...       34.0   49.0   61.0   58.0  11.0   7.0  0.0  14.0  0.182132   \n",
       "2      ...       24.0   36.0   62.0   43.0   9.0   6.0  0.0  14.0  0.149712   \n",
       "3      ...       68.0  109.0  148.0  109.0  30.0  13.0  0.0  20.0  0.261486   \n",
       "4      ...        7.0   17.0   32.0   22.0   4.0   3.0  0.0   2.0  0.195297   \n",
       "\n",
       "   subjectivity  \n",
       "0      0.578656  \n",
       "1      0.623393  \n",
       "2      0.563289  \n",
       "3      0.568099  \n",
       "4      0.550908  \n",
       "\n",
       "[5 rows x 56616 columns]"
      ]
     },
     "execution_count": 40,
     "metadata": {},
     "output_type": "execute_result"
    }
   ],
   "source": [
    "reviews_table = reviews_table.join(review_sentiment)\n",
    "reviews_table.head()"
   ]
  },
  {
   "cell_type": "code",
   "execution_count": 41,
   "metadata": {},
   "outputs": [
    {
     "data": {
      "text/plain": [
       "(13299, 56616)"
      ]
     },
     "execution_count": 41,
     "metadata": {},
     "output_type": "execute_result"
    }
   ],
   "source": [
    "reviews_table.shape"
   ]
  },
  {
   "cell_type": "markdown",
   "metadata": {},
   "source": [
    "## add additional features"
   ]
  },
  {
   "cell_type": "code",
   "execution_count": 42,
   "metadata": {},
   "outputs": [
    {
     "data": {
      "text/html": [
       "<div>\n",
       "<style>\n",
       "    .dataframe thead tr:only-child th {\n",
       "        text-align: right;\n",
       "    }\n",
       "\n",
       "    .dataframe thead th {\n",
       "        text-align: left;\n",
       "    }\n",
       "\n",
       "    .dataframe tbody tr th {\n",
       "        vertical-align: top;\n",
       "    }\n",
       "</style>\n",
       "<table border=\"1\" class=\"dataframe\">\n",
       "  <thead>\n",
       "    <tr style=\"text-align: right;\">\n",
       "      <th></th>\n",
       "      <th>category</th>\n",
       "      <th>zip_code</th>\n",
       "      <th>num_reviews</th>\n",
       "      <th>ave_rating</th>\n",
       "    </tr>\n",
       "  </thead>\n",
       "  <tbody>\n",
       "    <tr>\n",
       "      <th>0</th>\n",
       "      <td>['Vietnamese', 'Sandwiches', 'Restaurants']</td>\n",
       "      <td>98118</td>\n",
       "      <td>4</td>\n",
       "      <td>4.000000</td>\n",
       "    </tr>\n",
       "    <tr>\n",
       "      <th>1</th>\n",
       "      <td>['American (New)', 'Restaurants']</td>\n",
       "      <td>98109</td>\n",
       "      <td>21</td>\n",
       "      <td>4.047619</td>\n",
       "    </tr>\n",
       "    <tr>\n",
       "      <th>2</th>\n",
       "      <td>['Mexican', 'Restaurants']</td>\n",
       "      <td>98103</td>\n",
       "      <td>14</td>\n",
       "      <td>3.111111</td>\n",
       "    </tr>\n",
       "    <tr>\n",
       "      <th>3</th>\n",
       "      <td>['Mexican', 'Tex-Mex', 'Restaurants']</td>\n",
       "      <td>98112</td>\n",
       "      <td>42</td>\n",
       "      <td>4.088889</td>\n",
       "    </tr>\n",
       "    <tr>\n",
       "      <th>4</th>\n",
       "      <td>['Mexican', 'Restaurants']</td>\n",
       "      <td>98102</td>\n",
       "      <td>12</td>\n",
       "      <td>3.071429</td>\n",
       "    </tr>\n",
       "  </tbody>\n",
       "</table>\n",
       "</div>"
      ],
      "text/plain": [
       "                                      category  zip_code  num_reviews  \\\n",
       "0  ['Vietnamese', 'Sandwiches', 'Restaurants']     98118            4   \n",
       "1            ['American (New)', 'Restaurants']     98109           21   \n",
       "2                   ['Mexican', 'Restaurants']     98103           14   \n",
       "3        ['Mexican', 'Tex-Mex', 'Restaurants']     98112           42   \n",
       "4                   ['Mexican', 'Restaurants']     98102           12   \n",
       "\n",
       "   ave_rating  \n",
       "0    4.000000  \n",
       "1    4.047619  \n",
       "2    3.111111  \n",
       "3    4.088889  \n",
       "4    3.071429  "
      ]
     },
     "execution_count": 42,
     "metadata": {},
     "output_type": "execute_result"
    }
   ],
   "source": [
    "additional_features = pd.read_csv('hygiene.dat.additional.csv',\n",
    "                                  names = ['category', 'zip_code', 'num_reviews', 'ave_rating'])\n",
    "additional_features.head()"
   ]
  },
  {
   "cell_type": "code",
   "execution_count": 43,
   "metadata": {},
   "outputs": [
    {
     "data": {
      "text/plain": [
       "(13299, 4)"
      ]
     },
     "execution_count": 43,
     "metadata": {},
     "output_type": "execute_result"
    }
   ],
   "source": [
    "additional_features.shape"
   ]
  },
  {
   "cell_type": "code",
   "execution_count": 44,
   "metadata": {},
   "outputs": [
    {
     "data": {
      "text/html": [
       "<div>\n",
       "<style>\n",
       "    .dataframe thead tr:only-child th {\n",
       "        text-align: right;\n",
       "    }\n",
       "\n",
       "    .dataframe thead th {\n",
       "        text-align: left;\n",
       "    }\n",
       "\n",
       "    .dataframe tbody tr th {\n",
       "        vertical-align: top;\n",
       "    }\n",
       "</style>\n",
       "<table border=\"1\" class=\"dataframe\">\n",
       "  <thead>\n",
       "    <tr style=\"text-align: right;\">\n",
       "      <th></th>\n",
       "      <th>Category</th>\n",
       "    </tr>\n",
       "  </thead>\n",
       "  <tbody>\n",
       "    <tr>\n",
       "      <th>0</th>\n",
       "      <td>['Vietnamese', 'Sandwiches', 'Restaurants']</td>\n",
       "    </tr>\n",
       "    <tr>\n",
       "      <th>1</th>\n",
       "      <td>['American (New)', 'Restaurants']</td>\n",
       "    </tr>\n",
       "    <tr>\n",
       "      <th>2</th>\n",
       "      <td>['Mexican', 'Restaurants']</td>\n",
       "    </tr>\n",
       "    <tr>\n",
       "      <th>3</th>\n",
       "      <td>['Mexican', 'Tex-Mex', 'Restaurants']</td>\n",
       "    </tr>\n",
       "    <tr>\n",
       "      <th>4</th>\n",
       "      <td>['Mexican', 'Restaurants']</td>\n",
       "    </tr>\n",
       "  </tbody>\n",
       "</table>\n",
       "</div>"
      ],
      "text/plain": [
       "                                      Category\n",
       "0  ['Vietnamese', 'Sandwiches', 'Restaurants']\n",
       "1            ['American (New)', 'Restaurants']\n",
       "2                   ['Mexican', 'Restaurants']\n",
       "3        ['Mexican', 'Tex-Mex', 'Restaurants']\n",
       "4                   ['Mexican', 'Restaurants']"
      ]
     },
     "execution_count": 44,
     "metadata": {},
     "output_type": "execute_result"
    }
   ],
   "source": [
    "category = pd.DataFrame()\n",
    "category['Category'] = additional_features['category']\n",
    "category.head()"
   ]
  },
  {
   "cell_type": "code",
   "execution_count": 45,
   "metadata": {},
   "outputs": [
    {
     "data": {
      "text/plain": [
       "\"['Vietnamese', 'Sandwiches', 'Restaurants']\""
      ]
     },
     "execution_count": 45,
     "metadata": {},
     "output_type": "execute_result"
    }
   ],
   "source": [
    "category['Category'][0]"
   ]
  },
  {
   "cell_type": "code",
   "execution_count": 46,
   "metadata": {},
   "outputs": [
    {
     "data": {
      "text/plain": [
       "\"'Vietnamese', 'Sandwiches', 'Restaurants'\""
      ]
     },
     "execution_count": 46,
     "metadata": {},
     "output_type": "execute_result"
    }
   ],
   "source": [
    "category['Category'][0][1:-1]"
   ]
  },
  {
   "cell_type": "code",
   "execution_count": 47,
   "metadata": {},
   "outputs": [
    {
     "data": {
      "text/plain": [
       "[\"'Vietnamese'\", \" 'Sandwiches'\", \" 'Restaurants'\"]"
      ]
     },
     "execution_count": 47,
     "metadata": {},
     "output_type": "execute_result"
    }
   ],
   "source": [
    "category['Category'][0][1:-1].split(\",\")"
   ]
  },
  {
   "cell_type": "code",
   "execution_count": 48,
   "metadata": {},
   "outputs": [
    {
     "data": {
      "text/plain": [
       "\" 'Sandwiches'\""
      ]
     },
     "execution_count": 48,
     "metadata": {},
     "output_type": "execute_result"
    }
   ],
   "source": [
    "category['Category'][0][1:-1].split(\",\")[1]"
   ]
  },
  {
   "cell_type": "code",
   "execution_count": 49,
   "metadata": {},
   "outputs": [
    {
     "data": {
      "text/plain": [
       "'Vietnamese'"
      ]
     },
     "execution_count": 49,
     "metadata": {},
     "output_type": "execute_result"
    }
   ],
   "source": [
    "import re\n",
    "word = re.findall(r'\\w+',category['Category'][0][1:-1].split(\",\")[0])\n",
    "word [0]"
   ]
  },
  {
   "cell_type": "code",
   "execution_count": 50,
   "metadata": {
    "collapsed": true
   },
   "outputs": [],
   "source": [
    "category['Category'] = category['Category'].map(lambda c: re.findall(r'\\w+',c[1:-1].split(\",\")[0])[0])"
   ]
  },
  {
   "cell_type": "code",
   "execution_count": 51,
   "metadata": {},
   "outputs": [
    {
     "data": {
      "text/plain": [
       "0    Vietnamese\n",
       "1      American\n",
       "2       Mexican\n",
       "3       Mexican\n",
       "4       Mexican\n",
       "Name: Category, dtype: object"
      ]
     },
     "execution_count": 51,
     "metadata": {},
     "output_type": "execute_result"
    }
   ],
   "source": [
    "category['Category'].head()"
   ]
  },
  {
   "cell_type": "code",
   "execution_count": 52,
   "metadata": {},
   "outputs": [
    {
     "data": {
      "text/html": [
       "<div>\n",
       "<style>\n",
       "    .dataframe thead tr:only-child th {\n",
       "        text-align: right;\n",
       "    }\n",
       "\n",
       "    .dataframe thead th {\n",
       "        text-align: left;\n",
       "    }\n",
       "\n",
       "    .dataframe tbody tr th {\n",
       "        vertical-align: top;\n",
       "    }\n",
       "</style>\n",
       "<table border=\"1\" class=\"dataframe\">\n",
       "  <thead>\n",
       "    <tr style=\"text-align: right;\">\n",
       "      <th></th>\n",
       "      <th>Afghan</th>\n",
       "      <th>African</th>\n",
       "      <th>American</th>\n",
       "      <th>Asian</th>\n",
       "      <th>Australian</th>\n",
       "      <th>Barbeque</th>\n",
       "      <th>Belgian</th>\n",
       "      <th>Brazilian</th>\n",
       "      <th>Breakfast</th>\n",
       "      <th>British</th>\n",
       "      <th>...</th>\n",
       "      <th>Szechuan</th>\n",
       "      <th>Taiwanese</th>\n",
       "      <th>Tapas</th>\n",
       "      <th>Tex</th>\n",
       "      <th>Thai</th>\n",
       "      <th>Trinidadian</th>\n",
       "      <th>Turkish</th>\n",
       "      <th>Vegan</th>\n",
       "      <th>Vegetarian</th>\n",
       "      <th>Vietnamese</th>\n",
       "    </tr>\n",
       "  </thead>\n",
       "  <tbody>\n",
       "    <tr>\n",
       "      <th>0</th>\n",
       "      <td>0</td>\n",
       "      <td>0</td>\n",
       "      <td>0</td>\n",
       "      <td>0</td>\n",
       "      <td>0</td>\n",
       "      <td>0</td>\n",
       "      <td>0</td>\n",
       "      <td>0</td>\n",
       "      <td>0</td>\n",
       "      <td>0</td>\n",
       "      <td>...</td>\n",
       "      <td>0</td>\n",
       "      <td>0</td>\n",
       "      <td>0</td>\n",
       "      <td>0</td>\n",
       "      <td>0</td>\n",
       "      <td>0</td>\n",
       "      <td>0</td>\n",
       "      <td>0</td>\n",
       "      <td>0</td>\n",
       "      <td>1</td>\n",
       "    </tr>\n",
       "    <tr>\n",
       "      <th>1</th>\n",
       "      <td>0</td>\n",
       "      <td>0</td>\n",
       "      <td>1</td>\n",
       "      <td>0</td>\n",
       "      <td>0</td>\n",
       "      <td>0</td>\n",
       "      <td>0</td>\n",
       "      <td>0</td>\n",
       "      <td>0</td>\n",
       "      <td>0</td>\n",
       "      <td>...</td>\n",
       "      <td>0</td>\n",
       "      <td>0</td>\n",
       "      <td>0</td>\n",
       "      <td>0</td>\n",
       "      <td>0</td>\n",
       "      <td>0</td>\n",
       "      <td>0</td>\n",
       "      <td>0</td>\n",
       "      <td>0</td>\n",
       "      <td>0</td>\n",
       "    </tr>\n",
       "    <tr>\n",
       "      <th>2</th>\n",
       "      <td>0</td>\n",
       "      <td>0</td>\n",
       "      <td>0</td>\n",
       "      <td>0</td>\n",
       "      <td>0</td>\n",
       "      <td>0</td>\n",
       "      <td>0</td>\n",
       "      <td>0</td>\n",
       "      <td>0</td>\n",
       "      <td>0</td>\n",
       "      <td>...</td>\n",
       "      <td>0</td>\n",
       "      <td>0</td>\n",
       "      <td>0</td>\n",
       "      <td>0</td>\n",
       "      <td>0</td>\n",
       "      <td>0</td>\n",
       "      <td>0</td>\n",
       "      <td>0</td>\n",
       "      <td>0</td>\n",
       "      <td>0</td>\n",
       "    </tr>\n",
       "    <tr>\n",
       "      <th>3</th>\n",
       "      <td>0</td>\n",
       "      <td>0</td>\n",
       "      <td>0</td>\n",
       "      <td>0</td>\n",
       "      <td>0</td>\n",
       "      <td>0</td>\n",
       "      <td>0</td>\n",
       "      <td>0</td>\n",
       "      <td>0</td>\n",
       "      <td>0</td>\n",
       "      <td>...</td>\n",
       "      <td>0</td>\n",
       "      <td>0</td>\n",
       "      <td>0</td>\n",
       "      <td>0</td>\n",
       "      <td>0</td>\n",
       "      <td>0</td>\n",
       "      <td>0</td>\n",
       "      <td>0</td>\n",
       "      <td>0</td>\n",
       "      <td>0</td>\n",
       "    </tr>\n",
       "    <tr>\n",
       "      <th>4</th>\n",
       "      <td>0</td>\n",
       "      <td>0</td>\n",
       "      <td>0</td>\n",
       "      <td>0</td>\n",
       "      <td>0</td>\n",
       "      <td>0</td>\n",
       "      <td>0</td>\n",
       "      <td>0</td>\n",
       "      <td>0</td>\n",
       "      <td>0</td>\n",
       "      <td>...</td>\n",
       "      <td>0</td>\n",
       "      <td>0</td>\n",
       "      <td>0</td>\n",
       "      <td>0</td>\n",
       "      <td>0</td>\n",
       "      <td>0</td>\n",
       "      <td>0</td>\n",
       "      <td>0</td>\n",
       "      <td>0</td>\n",
       "      <td>0</td>\n",
       "    </tr>\n",
       "  </tbody>\n",
       "</table>\n",
       "<p>5 rows × 88 columns</p>\n",
       "</div>"
      ],
      "text/plain": [
       "   Afghan  African  American  Asian  Australian  Barbeque  Belgian  Brazilian  \\\n",
       "0       0        0         0      0           0         0        0          0   \n",
       "1       0        0         1      0           0         0        0          0   \n",
       "2       0        0         0      0           0         0        0          0   \n",
       "3       0        0         0      0           0         0        0          0   \n",
       "4       0        0         0      0           0         0        0          0   \n",
       "\n",
       "   Breakfast  British     ...      Szechuan  Taiwanese  Tapas  Tex  Thai  \\\n",
       "0          0        0     ...             0          0      0    0     0   \n",
       "1          0        0     ...             0          0      0    0     0   \n",
       "2          0        0     ...             0          0      0    0     0   \n",
       "3          0        0     ...             0          0      0    0     0   \n",
       "4          0        0     ...             0          0      0    0     0   \n",
       "\n",
       "   Trinidadian  Turkish  Vegan  Vegetarian  Vietnamese  \n",
       "0            0        0      0           0           1  \n",
       "1            0        0      0           0           0  \n",
       "2            0        0      0           0           0  \n",
       "3            0        0      0           0           0  \n",
       "4            0        0      0           0           0  \n",
       "\n",
       "[5 rows x 88 columns]"
      ]
     },
     "execution_count": 52,
     "metadata": {},
     "output_type": "execute_result"
    }
   ],
   "source": [
    "##dummy encoding\n",
    "category = pd.get_dummies(category['Category'])\n",
    "category.head()"
   ]
  },
  {
   "cell_type": "code",
   "execution_count": 53,
   "metadata": {},
   "outputs": [
    {
     "data": {
      "text/html": [
       "<div>\n",
       "<style>\n",
       "    .dataframe thead tr:only-child th {\n",
       "        text-align: right;\n",
       "    }\n",
       "\n",
       "    .dataframe thead th {\n",
       "        text-align: left;\n",
       "    }\n",
       "\n",
       "    .dataframe tbody tr th {\n",
       "        vertical-align: top;\n",
       "    }\n",
       "</style>\n",
       "<table border=\"1\" class=\"dataframe\">\n",
       "  <thead>\n",
       "    <tr style=\"text-align: right;\">\n",
       "      <th></th>\n",
       "      <th>zip_code</th>\n",
       "    </tr>\n",
       "  </thead>\n",
       "  <tbody>\n",
       "    <tr>\n",
       "      <th>0</th>\n",
       "      <td>98118</td>\n",
       "    </tr>\n",
       "    <tr>\n",
       "      <th>1</th>\n",
       "      <td>98109</td>\n",
       "    </tr>\n",
       "    <tr>\n",
       "      <th>2</th>\n",
       "      <td>98103</td>\n",
       "    </tr>\n",
       "    <tr>\n",
       "      <th>3</th>\n",
       "      <td>98112</td>\n",
       "    </tr>\n",
       "    <tr>\n",
       "      <th>4</th>\n",
       "      <td>98102</td>\n",
       "    </tr>\n",
       "  </tbody>\n",
       "</table>\n",
       "</div>"
      ],
      "text/plain": [
       "   zip_code\n",
       "0     98118\n",
       "1     98109\n",
       "2     98103\n",
       "3     98112\n",
       "4     98102"
      ]
     },
     "execution_count": 53,
     "metadata": {},
     "output_type": "execute_result"
    }
   ],
   "source": [
    "zipcode = pd.DataFrame()\n",
    "zipcode['zip_code'] = additional_features['zip_code']\n",
    "zipcode.head()"
   ]
  },
  {
   "cell_type": "code",
   "execution_count": 54,
   "metadata": {},
   "outputs": [
    {
     "data": {
      "text/plain": [
       "98118"
      ]
     },
     "execution_count": 54,
     "metadata": {},
     "output_type": "execute_result"
    }
   ],
   "source": [
    "zipcode['zip_code'][0]"
   ]
  },
  {
   "cell_type": "code",
   "execution_count": 55,
   "metadata": {},
   "outputs": [
    {
     "data": {
      "text/html": [
       "<div>\n",
       "<style>\n",
       "    .dataframe thead tr:only-child th {\n",
       "        text-align: right;\n",
       "    }\n",
       "\n",
       "    .dataframe thead th {\n",
       "        text-align: left;\n",
       "    }\n",
       "\n",
       "    .dataframe tbody tr th {\n",
       "        vertical-align: top;\n",
       "    }\n",
       "</style>\n",
       "<table border=\"1\" class=\"dataframe\">\n",
       "  <thead>\n",
       "    <tr style=\"text-align: right;\">\n",
       "      <th></th>\n",
       "      <th>98101</th>\n",
       "      <th>98102</th>\n",
       "      <th>98103</th>\n",
       "      <th>98104</th>\n",
       "      <th>98105</th>\n",
       "      <th>98106</th>\n",
       "      <th>98107</th>\n",
       "      <th>98108</th>\n",
       "      <th>98109</th>\n",
       "      <th>98112</th>\n",
       "      <th>...</th>\n",
       "      <th>98134</th>\n",
       "      <th>98136</th>\n",
       "      <th>98144</th>\n",
       "      <th>98146</th>\n",
       "      <th>98166</th>\n",
       "      <th>98168</th>\n",
       "      <th>98177</th>\n",
       "      <th>98178</th>\n",
       "      <th>98188</th>\n",
       "      <th>98199</th>\n",
       "    </tr>\n",
       "  </thead>\n",
       "  <tbody>\n",
       "    <tr>\n",
       "      <th>0</th>\n",
       "      <td>0</td>\n",
       "      <td>0</td>\n",
       "      <td>0</td>\n",
       "      <td>0</td>\n",
       "      <td>0</td>\n",
       "      <td>0</td>\n",
       "      <td>0</td>\n",
       "      <td>0</td>\n",
       "      <td>0</td>\n",
       "      <td>0</td>\n",
       "      <td>...</td>\n",
       "      <td>0</td>\n",
       "      <td>0</td>\n",
       "      <td>0</td>\n",
       "      <td>0</td>\n",
       "      <td>0</td>\n",
       "      <td>0</td>\n",
       "      <td>0</td>\n",
       "      <td>0</td>\n",
       "      <td>0</td>\n",
       "      <td>0</td>\n",
       "    </tr>\n",
       "    <tr>\n",
       "      <th>1</th>\n",
       "      <td>0</td>\n",
       "      <td>0</td>\n",
       "      <td>0</td>\n",
       "      <td>0</td>\n",
       "      <td>0</td>\n",
       "      <td>0</td>\n",
       "      <td>0</td>\n",
       "      <td>0</td>\n",
       "      <td>1</td>\n",
       "      <td>0</td>\n",
       "      <td>...</td>\n",
       "      <td>0</td>\n",
       "      <td>0</td>\n",
       "      <td>0</td>\n",
       "      <td>0</td>\n",
       "      <td>0</td>\n",
       "      <td>0</td>\n",
       "      <td>0</td>\n",
       "      <td>0</td>\n",
       "      <td>0</td>\n",
       "      <td>0</td>\n",
       "    </tr>\n",
       "    <tr>\n",
       "      <th>2</th>\n",
       "      <td>0</td>\n",
       "      <td>0</td>\n",
       "      <td>1</td>\n",
       "      <td>0</td>\n",
       "      <td>0</td>\n",
       "      <td>0</td>\n",
       "      <td>0</td>\n",
       "      <td>0</td>\n",
       "      <td>0</td>\n",
       "      <td>0</td>\n",
       "      <td>...</td>\n",
       "      <td>0</td>\n",
       "      <td>0</td>\n",
       "      <td>0</td>\n",
       "      <td>0</td>\n",
       "      <td>0</td>\n",
       "      <td>0</td>\n",
       "      <td>0</td>\n",
       "      <td>0</td>\n",
       "      <td>0</td>\n",
       "      <td>0</td>\n",
       "    </tr>\n",
       "    <tr>\n",
       "      <th>3</th>\n",
       "      <td>0</td>\n",
       "      <td>0</td>\n",
       "      <td>0</td>\n",
       "      <td>0</td>\n",
       "      <td>0</td>\n",
       "      <td>0</td>\n",
       "      <td>0</td>\n",
       "      <td>0</td>\n",
       "      <td>0</td>\n",
       "      <td>1</td>\n",
       "      <td>...</td>\n",
       "      <td>0</td>\n",
       "      <td>0</td>\n",
       "      <td>0</td>\n",
       "      <td>0</td>\n",
       "      <td>0</td>\n",
       "      <td>0</td>\n",
       "      <td>0</td>\n",
       "      <td>0</td>\n",
       "      <td>0</td>\n",
       "      <td>0</td>\n",
       "    </tr>\n",
       "    <tr>\n",
       "      <th>4</th>\n",
       "      <td>0</td>\n",
       "      <td>1</td>\n",
       "      <td>0</td>\n",
       "      <td>0</td>\n",
       "      <td>0</td>\n",
       "      <td>0</td>\n",
       "      <td>0</td>\n",
       "      <td>0</td>\n",
       "      <td>0</td>\n",
       "      <td>0</td>\n",
       "      <td>...</td>\n",
       "      <td>0</td>\n",
       "      <td>0</td>\n",
       "      <td>0</td>\n",
       "      <td>0</td>\n",
       "      <td>0</td>\n",
       "      <td>0</td>\n",
       "      <td>0</td>\n",
       "      <td>0</td>\n",
       "      <td>0</td>\n",
       "      <td>0</td>\n",
       "    </tr>\n",
       "  </tbody>\n",
       "</table>\n",
       "<p>5 rows × 30 columns</p>\n",
       "</div>"
      ],
      "text/plain": [
       "   98101  98102  98103  98104  98105  98106  98107  98108  98109  98112  \\\n",
       "0      0      0      0      0      0      0      0      0      0      0   \n",
       "1      0      0      0      0      0      0      0      0      1      0   \n",
       "2      0      0      1      0      0      0      0      0      0      0   \n",
       "3      0      0      0      0      0      0      0      0      0      1   \n",
       "4      0      1      0      0      0      0      0      0      0      0   \n",
       "\n",
       "   ...    98134  98136  98144  98146  98166  98168  98177  98178  98188  98199  \n",
       "0  ...        0      0      0      0      0      0      0      0      0      0  \n",
       "1  ...        0      0      0      0      0      0      0      0      0      0  \n",
       "2  ...        0      0      0      0      0      0      0      0      0      0  \n",
       "3  ...        0      0      0      0      0      0      0      0      0      0  \n",
       "4  ...        0      0      0      0      0      0      0      0      0      0  \n",
       "\n",
       "[5 rows x 30 columns]"
      ]
     },
     "execution_count": 55,
     "metadata": {},
     "output_type": "execute_result"
    }
   ],
   "source": [
    "#zipcode = pd.get_dummies(zipcode['zip_code'],prefix = 'zipcode')\n",
    "zipcode = pd.get_dummies(zipcode['zip_code'])\n",
    "zipcode.head()"
   ]
  },
  {
   "cell_type": "code",
   "execution_count": 56,
   "metadata": {
    "collapsed": true
   },
   "outputs": [],
   "source": [
    "reviews_table = reviews_table.join(zipcode)\n",
    "reviews_table = reviews_table.join(category)\n",
    "reviews_table['num_reviews'] = additional_features['num_reviews']\n",
    "reviews_table['ave_rating'] = additional_features['ave_rating']"
   ]
  },
  {
   "cell_type": "code",
   "execution_count": 57,
   "metadata": {},
   "outputs": [
    {
     "data": {
      "text/html": [
       "<div>\n",
       "<style>\n",
       "    .dataframe thead tr:only-child th {\n",
       "        text-align: right;\n",
       "    }\n",
       "\n",
       "    .dataframe thead th {\n",
       "        text-align: left;\n",
       "    }\n",
       "\n",
       "    .dataframe tbody tr th {\n",
       "        vertical-align: top;\n",
       "    }\n",
       "</style>\n",
       "<table border=\"1\" class=\"dataframe\">\n",
       "  <thead>\n",
       "    <tr style=\"text-align: right;\">\n",
       "      <th></th>\n",
       "      <th>review_text</th>\n",
       "      <th>total_char_length</th>\n",
       "      <th>total_num_words</th>\n",
       "      <th>good</th>\n",
       "      <th>food</th>\n",
       "      <th>place</th>\n",
       "      <th>like</th>\n",
       "      <th>great</th>\n",
       "      <th>just</th>\n",
       "      <th>really</th>\n",
       "      <th>...</th>\n",
       "      <th>Tapas</th>\n",
       "      <th>Tex</th>\n",
       "      <th>Thai</th>\n",
       "      <th>Trinidadian</th>\n",
       "      <th>Turkish</th>\n",
       "      <th>Vegan</th>\n",
       "      <th>Vegetarian</th>\n",
       "      <th>Vietnamese</th>\n",
       "      <th>num_reviews</th>\n",
       "      <th>ave_rating</th>\n",
       "    </tr>\n",
       "  </thead>\n",
       "  <tbody>\n",
       "    <tr>\n",
       "      <th>0</th>\n",
       "      <td>the baguettes and rolls are excellent and alth...</td>\n",
       "      <td>3694</td>\n",
       "      <td>690</td>\n",
       "      <td>1</td>\n",
       "      <td>2</td>\n",
       "      <td>4</td>\n",
       "      <td>4</td>\n",
       "      <td>4</td>\n",
       "      <td>1</td>\n",
       "      <td>0</td>\n",
       "      <td>...</td>\n",
       "      <td>0</td>\n",
       "      <td>0</td>\n",
       "      <td>0</td>\n",
       "      <td>0</td>\n",
       "      <td>0</td>\n",
       "      <td>0</td>\n",
       "      <td>0</td>\n",
       "      <td>1</td>\n",
       "      <td>4</td>\n",
       "      <td>4.000000</td>\n",
       "    </tr>\n",
       "    <tr>\n",
       "      <th>1</th>\n",
       "      <td>i live up the street from betty when my sister...</td>\n",
       "      <td>11662</td>\n",
       "      <td>2177</td>\n",
       "      <td>11</td>\n",
       "      <td>14</td>\n",
       "      <td>13</td>\n",
       "      <td>9</td>\n",
       "      <td>12</td>\n",
       "      <td>6</td>\n",
       "      <td>8</td>\n",
       "      <td>...</td>\n",
       "      <td>0</td>\n",
       "      <td>0</td>\n",
       "      <td>0</td>\n",
       "      <td>0</td>\n",
       "      <td>0</td>\n",
       "      <td>0</td>\n",
       "      <td>0</td>\n",
       "      <td>0</td>\n",
       "      <td>21</td>\n",
       "      <td>4.047619</td>\n",
       "    </tr>\n",
       "    <tr>\n",
       "      <th>2</th>\n",
       "      <td>im worried about how i will review this place ...</td>\n",
       "      <td>10122</td>\n",
       "      <td>1935</td>\n",
       "      <td>11</td>\n",
       "      <td>22</td>\n",
       "      <td>9</td>\n",
       "      <td>6</td>\n",
       "      <td>9</td>\n",
       "      <td>9</td>\n",
       "      <td>10</td>\n",
       "      <td>...</td>\n",
       "      <td>0</td>\n",
       "      <td>0</td>\n",
       "      <td>0</td>\n",
       "      <td>0</td>\n",
       "      <td>0</td>\n",
       "      <td>0</td>\n",
       "      <td>0</td>\n",
       "      <td>0</td>\n",
       "      <td>14</td>\n",
       "      <td>3.111111</td>\n",
       "    </tr>\n",
       "    <tr>\n",
       "      <th>3</th>\n",
       "      <td>why cant you access them on google street view...</td>\n",
       "      <td>28499</td>\n",
       "      <td>5264</td>\n",
       "      <td>37</td>\n",
       "      <td>40</td>\n",
       "      <td>26</td>\n",
       "      <td>19</td>\n",
       "      <td>19</td>\n",
       "      <td>16</td>\n",
       "      <td>18</td>\n",
       "      <td>...</td>\n",
       "      <td>0</td>\n",
       "      <td>0</td>\n",
       "      <td>0</td>\n",
       "      <td>0</td>\n",
       "      <td>0</td>\n",
       "      <td>0</td>\n",
       "      <td>0</td>\n",
       "      <td>0</td>\n",
       "      <td>42</td>\n",
       "      <td>4.088889</td>\n",
       "    </tr>\n",
       "    <tr>\n",
       "      <th>4</th>\n",
       "      <td>things to like about this place homemade guaca...</td>\n",
       "      <td>4636</td>\n",
       "      <td>888</td>\n",
       "      <td>8</td>\n",
       "      <td>11</td>\n",
       "      <td>8</td>\n",
       "      <td>2</td>\n",
       "      <td>6</td>\n",
       "      <td>4</td>\n",
       "      <td>2</td>\n",
       "      <td>...</td>\n",
       "      <td>0</td>\n",
       "      <td>0</td>\n",
       "      <td>0</td>\n",
       "      <td>0</td>\n",
       "      <td>0</td>\n",
       "      <td>0</td>\n",
       "      <td>0</td>\n",
       "      <td>0</td>\n",
       "      <td>12</td>\n",
       "      <td>3.071429</td>\n",
       "    </tr>\n",
       "  </tbody>\n",
       "</table>\n",
       "<p>5 rows × 56736 columns</p>\n",
       "</div>"
      ],
      "text/plain": [
       "                                         review_text  total_char_length  \\\n",
       "0  the baguettes and rolls are excellent and alth...               3694   \n",
       "1  i live up the street from betty when my sister...              11662   \n",
       "2  im worried about how i will review this place ...              10122   \n",
       "3  why cant you access them on google street view...              28499   \n",
       "4  things to like about this place homemade guaca...               4636   \n",
       "\n",
       "   total_num_words  good  food  place  like  great  just  really     ...      \\\n",
       "0              690     1     2      4     4      4     1       0     ...       \n",
       "1             2177    11    14     13     9     12     6       8     ...       \n",
       "2             1935    11    22      9     6      9     9      10     ...       \n",
       "3             5264    37    40     26    19     19    16      18     ...       \n",
       "4              888     8    11      8     2      6     4       2     ...       \n",
       "\n",
       "   Tapas  Tex  Thai  Trinidadian  Turkish  Vegan  Vegetarian  Vietnamese  \\\n",
       "0      0    0     0            0        0      0           0           1   \n",
       "1      0    0     0            0        0      0           0           0   \n",
       "2      0    0     0            0        0      0           0           0   \n",
       "3      0    0     0            0        0      0           0           0   \n",
       "4      0    0     0            0        0      0           0           0   \n",
       "\n",
       "   num_reviews  ave_rating  \n",
       "0            4    4.000000  \n",
       "1           21    4.047619  \n",
       "2           14    3.111111  \n",
       "3           42    4.088889  \n",
       "4           12    3.071429  \n",
       "\n",
       "[5 rows x 56736 columns]"
      ]
     },
     "execution_count": 57,
     "metadata": {},
     "output_type": "execute_result"
    }
   ],
   "source": [
    "reviews_table.head()"
   ]
  },
  {
   "cell_type": "code",
   "execution_count": 58,
   "metadata": {},
   "outputs": [
    {
     "data": {
      "text/plain": [
       "(13299, 56736)"
      ]
     },
     "execution_count": 58,
     "metadata": {},
     "output_type": "execute_result"
    }
   ],
   "source": [
    "reviews_table.shape"
   ]
  },
  {
   "cell_type": "code",
   "execution_count": 59,
   "metadata": {},
   "outputs": [
    {
     "data": {
      "text/plain": [
       "review_text          the baguettes and rolls are excellent and alth...\n",
       "total_char_length                                                 3694\n",
       "total_num_words                                                    690\n",
       "good                                                                 1\n",
       "food                                                                 2\n",
       "place                                                                4\n",
       "like                                                                 4\n",
       "great                                                                4\n",
       "just                                                                 1\n",
       "really                                                               0\n",
       "service                                                              1\n",
       "time                                                                 0\n",
       "dont                                                                 4\n",
       "im                                                                   2\n",
       "ive                                                                  4\n",
       "little                                                               2\n",
       "love                                                                 1\n",
       "seattle                                                              2\n",
       "nice                                                                 0\n",
       "best                                                                 0\n",
       "menu                                                                 0\n",
       "restaurant                                                           1\n",
       "pretty                                                               1\n",
       "ordered                                                              0\n",
       "delicious                                                            1\n",
       "got                                                                  0\n",
       "order                                                                1\n",
       "try                                                                  0\n",
       "chicken                                                              5\n",
       "bar                                                                  0\n",
       "                                           ...                        \n",
       "Pizza                                                                0\n",
       "Polish                                                               0\n",
       "Puerto                                                               0\n",
       "Restaurants                                                          0\n",
       "Russian                                                              0\n",
       "Salad                                                                0\n",
       "Salvadoran                                                           0\n",
       "Sandwiches                                                           0\n",
       "Scandinavian                                                         0\n",
       "Scottish                                                             0\n",
       "Seafood                                                              0\n",
       "Senegalese                                                           0\n",
       "Shanghainese                                                         0\n",
       "Soup                                                                 0\n",
       "Southern                                                             0\n",
       "Spanish                                                              0\n",
       "Steakhouses                                                          0\n",
       "Sushi                                                                0\n",
       "Szechuan                                                             0\n",
       "Taiwanese                                                            0\n",
       "Tapas                                                                0\n",
       "Tex                                                                  0\n",
       "Thai                                                                 0\n",
       "Trinidadian                                                          0\n",
       "Turkish                                                              0\n",
       "Vegan                                                                0\n",
       "Vegetarian                                                           0\n",
       "Vietnamese                                                           1\n",
       "num_reviews                                                          4\n",
       "ave_rating                                                           4\n",
       "Name: 0, Length: 56736, dtype: object"
      ]
     },
     "execution_count": 59,
     "metadata": {},
     "output_type": "execute_result"
    }
   ],
   "source": [
    "reviews_table.iloc[0]"
   ]
  },
  {
   "cell_type": "code",
   "execution_count": 60,
   "metadata": {
    "collapsed": true
   },
   "outputs": [],
   "source": [
    "# create new additional features\n",
    "reviews_table['ave_char_length_per_review'] = reviews_table['total_char_length']/reviews_table['num_reviews']\n",
    "reviews_table['ave_num_words_per_review'] = reviews_table['total_num_words']/reviews_table['num_reviews']\n",
    "\n",
    "\n",
    "reviews_table['num_reviews_times_rating'] = reviews_table['num_reviews']*reviews_table['ave_rating']\n",
    "reviews_table['num_words_times_rating'] = reviews_table['total_num_words']*reviews_table['ave_rating']\n",
    "reviews_table['char_length_times_rating'] = reviews_table['total_char_length']*reviews_table['ave_rating']\n",
    "\n",
    "reviews_table['num_reviews_times_polarity'] = reviews_table['num_reviews']*reviews_table['polarity']\n",
    "reviews_table['num_words_times_polarity'] = reviews_table['total_num_words']*reviews_table['polarity']\n",
    "reviews_table['char_length_times_polarity'] = reviews_table['total_char_length']*reviews_table['polarity']\n",
    "\n",
    "reviews_table['num_reviews_times_subjectivity'] = reviews_table['num_reviews']*reviews_table['subjectivity']\n",
    "reviews_table['num_words_times_subjectivity'] = reviews_table['total_num_words']*reviews_table['subjectivity']\n",
    "reviews_table['char_length_times_subjectivity'] = reviews_table['total_char_length']*reviews_table['subjectivity']\n",
    "\n",
    "reviews_table['ave_rating_times_polarity'] = reviews_table['ave_rating']*reviews_table['polarity']\n",
    "reviews_table['ave_rating_times_subjectivity'] = reviews_table['ave_rating']*reviews_table['subjectivity']\n"
   ]
  },
  {
   "cell_type": "code",
   "execution_count": 61,
   "metadata": {},
   "outputs": [
    {
     "data": {
      "text/plain": [
       "(13299, 56749)"
      ]
     },
     "execution_count": 61,
     "metadata": {},
     "output_type": "execute_result"
    }
   ],
   "source": [
    "reviews_table.shape"
   ]
  },
  {
   "cell_type": "code",
   "execution_count": 62,
   "metadata": {
    "collapsed": true
   },
   "outputs": [],
   "source": [
    "feature_table = reviews_table.drop(['review_text'], axis = 1)"
   ]
  },
  {
   "cell_type": "code",
   "execution_count": 63,
   "metadata": {},
   "outputs": [
    {
     "data": {
      "text/html": [
       "<div>\n",
       "<style>\n",
       "    .dataframe thead tr:only-child th {\n",
       "        text-align: right;\n",
       "    }\n",
       "\n",
       "    .dataframe thead th {\n",
       "        text-align: left;\n",
       "    }\n",
       "\n",
       "    .dataframe tbody tr th {\n",
       "        vertical-align: top;\n",
       "    }\n",
       "</style>\n",
       "<table border=\"1\" class=\"dataframe\">\n",
       "  <thead>\n",
       "    <tr style=\"text-align: right;\">\n",
       "      <th></th>\n",
       "      <th>total_char_length</th>\n",
       "      <th>total_num_words</th>\n",
       "      <th>good</th>\n",
       "      <th>food</th>\n",
       "      <th>place</th>\n",
       "      <th>like</th>\n",
       "      <th>great</th>\n",
       "      <th>just</th>\n",
       "      <th>really</th>\n",
       "      <th>service</th>\n",
       "      <th>...</th>\n",
       "      <th>num_words_times_rating</th>\n",
       "      <th>char_length_times_rating</th>\n",
       "      <th>num_reviews_times_polarity</th>\n",
       "      <th>num_words_times_polarity</th>\n",
       "      <th>char_length_times_polarity</th>\n",
       "      <th>num_reviews_times_subjectivity</th>\n",
       "      <th>num_words_times_subjectivity</th>\n",
       "      <th>char_length_times_subjectivity</th>\n",
       "      <th>ave_rating_times_polarity</th>\n",
       "      <th>ave_rating_times_subjectivity</th>\n",
       "    </tr>\n",
       "  </thead>\n",
       "  <tbody>\n",
       "    <tr>\n",
       "      <th>0</th>\n",
       "      <td>3694</td>\n",
       "      <td>690</td>\n",
       "      <td>1</td>\n",
       "      <td>2</td>\n",
       "      <td>4</td>\n",
       "      <td>4</td>\n",
       "      <td>4</td>\n",
       "      <td>1</td>\n",
       "      <td>0</td>\n",
       "      <td>1</td>\n",
       "      <td>...</td>\n",
       "      <td>2760.000000</td>\n",
       "      <td>14776.000000</td>\n",
       "      <td>0.642501</td>\n",
       "      <td>110.831415</td>\n",
       "      <td>593.349636</td>\n",
       "      <td>2.314622</td>\n",
       "      <td>399.272358</td>\n",
       "      <td>2137.553757</td>\n",
       "      <td>0.642501</td>\n",
       "      <td>2.314622</td>\n",
       "    </tr>\n",
       "    <tr>\n",
       "      <th>1</th>\n",
       "      <td>11662</td>\n",
       "      <td>2177</td>\n",
       "      <td>11</td>\n",
       "      <td>14</td>\n",
       "      <td>13</td>\n",
       "      <td>9</td>\n",
       "      <td>12</td>\n",
       "      <td>6</td>\n",
       "      <td>8</td>\n",
       "      <td>8</td>\n",
       "      <td>...</td>\n",
       "      <td>8811.666667</td>\n",
       "      <td>47203.333338</td>\n",
       "      <td>3.824766</td>\n",
       "      <td>396.500728</td>\n",
       "      <td>2124.019979</td>\n",
       "      <td>13.091253</td>\n",
       "      <td>1357.126564</td>\n",
       "      <td>7270.009185</td>\n",
       "      <td>0.737200</td>\n",
       "      <td>2.523257</td>\n",
       "    </tr>\n",
       "    <tr>\n",
       "      <th>2</th>\n",
       "      <td>10122</td>\n",
       "      <td>1935</td>\n",
       "      <td>11</td>\n",
       "      <td>22</td>\n",
       "      <td>9</td>\n",
       "      <td>6</td>\n",
       "      <td>9</td>\n",
       "      <td>9</td>\n",
       "      <td>10</td>\n",
       "      <td>9</td>\n",
       "      <td>...</td>\n",
       "      <td>6020.000000</td>\n",
       "      <td>31490.666666</td>\n",
       "      <td>2.095971</td>\n",
       "      <td>289.693178</td>\n",
       "      <td>1515.387262</td>\n",
       "      <td>7.886049</td>\n",
       "      <td>1089.964580</td>\n",
       "      <td>5701.613167</td>\n",
       "      <td>0.465771</td>\n",
       "      <td>1.752455</td>\n",
       "    </tr>\n",
       "    <tr>\n",
       "      <th>3</th>\n",
       "      <td>28499</td>\n",
       "      <td>5264</td>\n",
       "      <td>37</td>\n",
       "      <td>40</td>\n",
       "      <td>26</td>\n",
       "      <td>19</td>\n",
       "      <td>19</td>\n",
       "      <td>16</td>\n",
       "      <td>18</td>\n",
       "      <td>20</td>\n",
       "      <td>...</td>\n",
       "      <td>21523.911112</td>\n",
       "      <td>116529.244448</td>\n",
       "      <td>10.982426</td>\n",
       "      <td>1376.464106</td>\n",
       "      <td>7452.099270</td>\n",
       "      <td>23.860150</td>\n",
       "      <td>2990.472136</td>\n",
       "      <td>16190.247987</td>\n",
       "      <td>1.069189</td>\n",
       "      <td>2.322893</td>\n",
       "    </tr>\n",
       "    <tr>\n",
       "      <th>4</th>\n",
       "      <td>4636</td>\n",
       "      <td>888</td>\n",
       "      <td>8</td>\n",
       "      <td>11</td>\n",
       "      <td>8</td>\n",
       "      <td>2</td>\n",
       "      <td>6</td>\n",
       "      <td>4</td>\n",
       "      <td>2</td>\n",
       "      <td>8</td>\n",
       "      <td>...</td>\n",
       "      <td>2727.428571</td>\n",
       "      <td>14239.142855</td>\n",
       "      <td>2.343567</td>\n",
       "      <td>173.423983</td>\n",
       "      <td>905.398180</td>\n",
       "      <td>6.610897</td>\n",
       "      <td>489.206349</td>\n",
       "      <td>2554.009724</td>\n",
       "      <td>0.599842</td>\n",
       "      <td>1.692075</td>\n",
       "    </tr>\n",
       "  </tbody>\n",
       "</table>\n",
       "<p>5 rows × 56748 columns</p>\n",
       "</div>"
      ],
      "text/plain": [
       "   total_char_length  total_num_words  good  food  place  like  great  just  \\\n",
       "0               3694              690     1     2      4     4      4     1   \n",
       "1              11662             2177    11    14     13     9     12     6   \n",
       "2              10122             1935    11    22      9     6      9     9   \n",
       "3              28499             5264    37    40     26    19     19    16   \n",
       "4               4636              888     8    11      8     2      6     4   \n",
       "\n",
       "   really  service              ...                num_words_times_rating  \\\n",
       "0       0        1              ...                           2760.000000   \n",
       "1       8        8              ...                           8811.666667   \n",
       "2      10        9              ...                           6020.000000   \n",
       "3      18       20              ...                          21523.911112   \n",
       "4       2        8              ...                           2727.428571   \n",
       "\n",
       "   char_length_times_rating  num_reviews_times_polarity  \\\n",
       "0              14776.000000                    0.642501   \n",
       "1              47203.333338                    3.824766   \n",
       "2              31490.666666                    2.095971   \n",
       "3             116529.244448                   10.982426   \n",
       "4              14239.142855                    2.343567   \n",
       "\n",
       "   num_words_times_polarity  char_length_times_polarity  \\\n",
       "0                110.831415                  593.349636   \n",
       "1                396.500728                 2124.019979   \n",
       "2                289.693178                 1515.387262   \n",
       "3               1376.464106                 7452.099270   \n",
       "4                173.423983                  905.398180   \n",
       "\n",
       "   num_reviews_times_subjectivity  num_words_times_subjectivity  \\\n",
       "0                        2.314622                    399.272358   \n",
       "1                       13.091253                   1357.126564   \n",
       "2                        7.886049                   1089.964580   \n",
       "3                       23.860150                   2990.472136   \n",
       "4                        6.610897                    489.206349   \n",
       "\n",
       "   char_length_times_subjectivity  ave_rating_times_polarity  \\\n",
       "0                     2137.553757                   0.642501   \n",
       "1                     7270.009185                   0.737200   \n",
       "2                     5701.613167                   0.465771   \n",
       "3                    16190.247987                   1.069189   \n",
       "4                     2554.009724                   0.599842   \n",
       "\n",
       "   ave_rating_times_subjectivity  \n",
       "0                       2.314622  \n",
       "1                       2.523257  \n",
       "2                       1.752455  \n",
       "3                       2.322893  \n",
       "4                       1.692075  \n",
       "\n",
       "[5 rows x 56748 columns]"
      ]
     },
     "execution_count": 63,
     "metadata": {},
     "output_type": "execute_result"
    }
   ],
   "source": [
    "feature_table.head()"
   ]
  },
  {
   "cell_type": "code",
   "execution_count": 64,
   "metadata": {},
   "outputs": [
    {
     "data": {
      "text/plain": [
       "(13299, 56748)"
      ]
     },
     "execution_count": 64,
     "metadata": {},
     "output_type": "execute_result"
    }
   ],
   "source": [
    "feature_table.shape"
   ]
  },
  {
   "cell_type": "code",
   "execution_count": 65,
   "metadata": {
    "collapsed": true
   },
   "outputs": [],
   "source": [
    "feature_table_index = feature_table.columns"
   ]
  },
  {
   "cell_type": "code",
   "execution_count": 66,
   "metadata": {},
   "outputs": [
    {
     "data": {
      "text/plain": [
       "Index([             u'total_char_length',                u'total_num_words',\n",
       "                                 u'good',                           u'food',\n",
       "                                u'place',                           u'like',\n",
       "                                u'great',                           u'just',\n",
       "                               u'really',                        u'service',\n",
       "       ...\n",
       "               u'num_words_times_rating',       u'char_length_times_rating',\n",
       "           u'num_reviews_times_polarity',       u'num_words_times_polarity',\n",
       "           u'char_length_times_polarity', u'num_reviews_times_subjectivity',\n",
       "         u'num_words_times_subjectivity', u'char_length_times_subjectivity',\n",
       "            u'ave_rating_times_polarity',  u'ave_rating_times_subjectivity'],\n",
       "      dtype='object', length=56748)"
      ]
     },
     "execution_count": 66,
     "metadata": {},
     "output_type": "execute_result"
    }
   ],
   "source": [
    "feature_table_index"
   ]
  },
  {
   "cell_type": "code",
   "execution_count": 67,
   "metadata": {},
   "outputs": [
    {
     "data": {
      "text/plain": [
       "(546, 56748)"
      ]
     },
     "execution_count": 67,
     "metadata": {},
     "output_type": "execute_result"
    }
   ],
   "source": [
    "train_raw_data = feature_table[labels.indicator != '[None]']\n",
    "train_raw_data.shape"
   ]
  },
  {
   "cell_type": "code",
   "execution_count": 68,
   "metadata": {},
   "outputs": [
    {
     "data": {
      "text/html": [
       "<div>\n",
       "<style>\n",
       "    .dataframe thead tr:only-child th {\n",
       "        text-align: right;\n",
       "    }\n",
       "\n",
       "    .dataframe thead th {\n",
       "        text-align: left;\n",
       "    }\n",
       "\n",
       "    .dataframe tbody tr th {\n",
       "        vertical-align: top;\n",
       "    }\n",
       "</style>\n",
       "<table border=\"1\" class=\"dataframe\">\n",
       "  <thead>\n",
       "    <tr style=\"text-align: right;\">\n",
       "      <th></th>\n",
       "      <th>total_char_length</th>\n",
       "      <th>total_num_words</th>\n",
       "      <th>good</th>\n",
       "      <th>food</th>\n",
       "      <th>place</th>\n",
       "      <th>like</th>\n",
       "      <th>great</th>\n",
       "      <th>just</th>\n",
       "      <th>really</th>\n",
       "      <th>service</th>\n",
       "      <th>...</th>\n",
       "      <th>num_words_times_rating</th>\n",
       "      <th>char_length_times_rating</th>\n",
       "      <th>num_reviews_times_polarity</th>\n",
       "      <th>num_words_times_polarity</th>\n",
       "      <th>char_length_times_polarity</th>\n",
       "      <th>num_reviews_times_subjectivity</th>\n",
       "      <th>num_words_times_subjectivity</th>\n",
       "      <th>char_length_times_subjectivity</th>\n",
       "      <th>ave_rating_times_polarity</th>\n",
       "      <th>ave_rating_times_subjectivity</th>\n",
       "    </tr>\n",
       "  </thead>\n",
       "  <tbody>\n",
       "    <tr>\n",
       "      <th>0</th>\n",
       "      <td>3694</td>\n",
       "      <td>690</td>\n",
       "      <td>1</td>\n",
       "      <td>2</td>\n",
       "      <td>4</td>\n",
       "      <td>4</td>\n",
       "      <td>4</td>\n",
       "      <td>1</td>\n",
       "      <td>0</td>\n",
       "      <td>1</td>\n",
       "      <td>...</td>\n",
       "      <td>2760.000000</td>\n",
       "      <td>14776.000000</td>\n",
       "      <td>0.642501</td>\n",
       "      <td>110.831415</td>\n",
       "      <td>593.349636</td>\n",
       "      <td>2.314622</td>\n",
       "      <td>399.272358</td>\n",
       "      <td>2137.553757</td>\n",
       "      <td>0.642501</td>\n",
       "      <td>2.314622</td>\n",
       "    </tr>\n",
       "    <tr>\n",
       "      <th>1</th>\n",
       "      <td>11662</td>\n",
       "      <td>2177</td>\n",
       "      <td>11</td>\n",
       "      <td>14</td>\n",
       "      <td>13</td>\n",
       "      <td>9</td>\n",
       "      <td>12</td>\n",
       "      <td>6</td>\n",
       "      <td>8</td>\n",
       "      <td>8</td>\n",
       "      <td>...</td>\n",
       "      <td>8811.666667</td>\n",
       "      <td>47203.333338</td>\n",
       "      <td>3.824766</td>\n",
       "      <td>396.500728</td>\n",
       "      <td>2124.019979</td>\n",
       "      <td>13.091253</td>\n",
       "      <td>1357.126564</td>\n",
       "      <td>7270.009185</td>\n",
       "      <td>0.737200</td>\n",
       "      <td>2.523257</td>\n",
       "    </tr>\n",
       "    <tr>\n",
       "      <th>2</th>\n",
       "      <td>10122</td>\n",
       "      <td>1935</td>\n",
       "      <td>11</td>\n",
       "      <td>22</td>\n",
       "      <td>9</td>\n",
       "      <td>6</td>\n",
       "      <td>9</td>\n",
       "      <td>9</td>\n",
       "      <td>10</td>\n",
       "      <td>9</td>\n",
       "      <td>...</td>\n",
       "      <td>6020.000000</td>\n",
       "      <td>31490.666666</td>\n",
       "      <td>2.095971</td>\n",
       "      <td>289.693178</td>\n",
       "      <td>1515.387262</td>\n",
       "      <td>7.886049</td>\n",
       "      <td>1089.964580</td>\n",
       "      <td>5701.613167</td>\n",
       "      <td>0.465771</td>\n",
       "      <td>1.752455</td>\n",
       "    </tr>\n",
       "    <tr>\n",
       "      <th>3</th>\n",
       "      <td>28499</td>\n",
       "      <td>5264</td>\n",
       "      <td>37</td>\n",
       "      <td>40</td>\n",
       "      <td>26</td>\n",
       "      <td>19</td>\n",
       "      <td>19</td>\n",
       "      <td>16</td>\n",
       "      <td>18</td>\n",
       "      <td>20</td>\n",
       "      <td>...</td>\n",
       "      <td>21523.911112</td>\n",
       "      <td>116529.244448</td>\n",
       "      <td>10.982426</td>\n",
       "      <td>1376.464106</td>\n",
       "      <td>7452.099270</td>\n",
       "      <td>23.860150</td>\n",
       "      <td>2990.472136</td>\n",
       "      <td>16190.247987</td>\n",
       "      <td>1.069189</td>\n",
       "      <td>2.322893</td>\n",
       "    </tr>\n",
       "    <tr>\n",
       "      <th>4</th>\n",
       "      <td>4636</td>\n",
       "      <td>888</td>\n",
       "      <td>8</td>\n",
       "      <td>11</td>\n",
       "      <td>8</td>\n",
       "      <td>2</td>\n",
       "      <td>6</td>\n",
       "      <td>4</td>\n",
       "      <td>2</td>\n",
       "      <td>8</td>\n",
       "      <td>...</td>\n",
       "      <td>2727.428571</td>\n",
       "      <td>14239.142855</td>\n",
       "      <td>2.343567</td>\n",
       "      <td>173.423983</td>\n",
       "      <td>905.398180</td>\n",
       "      <td>6.610897</td>\n",
       "      <td>489.206349</td>\n",
       "      <td>2554.009724</td>\n",
       "      <td>0.599842</td>\n",
       "      <td>1.692075</td>\n",
       "    </tr>\n",
       "  </tbody>\n",
       "</table>\n",
       "<p>5 rows × 56748 columns</p>\n",
       "</div>"
      ],
      "text/plain": [
       "   total_char_length  total_num_words  good  food  place  like  great  just  \\\n",
       "0               3694              690     1     2      4     4      4     1   \n",
       "1              11662             2177    11    14     13     9     12     6   \n",
       "2              10122             1935    11    22      9     6      9     9   \n",
       "3              28499             5264    37    40     26    19     19    16   \n",
       "4               4636              888     8    11      8     2      6     4   \n",
       "\n",
       "   really  service              ...                num_words_times_rating  \\\n",
       "0       0        1              ...                           2760.000000   \n",
       "1       8        8              ...                           8811.666667   \n",
       "2      10        9              ...                           6020.000000   \n",
       "3      18       20              ...                          21523.911112   \n",
       "4       2        8              ...                           2727.428571   \n",
       "\n",
       "   char_length_times_rating  num_reviews_times_polarity  \\\n",
       "0              14776.000000                    0.642501   \n",
       "1              47203.333338                    3.824766   \n",
       "2              31490.666666                    2.095971   \n",
       "3             116529.244448                   10.982426   \n",
       "4              14239.142855                    2.343567   \n",
       "\n",
       "   num_words_times_polarity  char_length_times_polarity  \\\n",
       "0                110.831415                  593.349636   \n",
       "1                396.500728                 2124.019979   \n",
       "2                289.693178                 1515.387262   \n",
       "3               1376.464106                 7452.099270   \n",
       "4                173.423983                  905.398180   \n",
       "\n",
       "   num_reviews_times_subjectivity  num_words_times_subjectivity  \\\n",
       "0                        2.314622                    399.272358   \n",
       "1                       13.091253                   1357.126564   \n",
       "2                        7.886049                   1089.964580   \n",
       "3                       23.860150                   2990.472136   \n",
       "4                        6.610897                    489.206349   \n",
       "\n",
       "   char_length_times_subjectivity  ave_rating_times_polarity  \\\n",
       "0                     2137.553757                   0.642501   \n",
       "1                     7270.009185                   0.737200   \n",
       "2                     5701.613167                   0.465771   \n",
       "3                    16190.247987                   1.069189   \n",
       "4                     2554.009724                   0.599842   \n",
       "\n",
       "   ave_rating_times_subjectivity  \n",
       "0                       2.314622  \n",
       "1                       2.523257  \n",
       "2                       1.752455  \n",
       "3                       2.322893  \n",
       "4                       1.692075  \n",
       "\n",
       "[5 rows x 56748 columns]"
      ]
     },
     "execution_count": 68,
     "metadata": {},
     "output_type": "execute_result"
    }
   ],
   "source": [
    "train_raw_data.head()"
   ]
  },
  {
   "cell_type": "code",
   "execution_count": 69,
   "metadata": {},
   "outputs": [
    {
     "data": {
      "text/plain": [
       "(12753, 56748)"
      ]
     },
     "execution_count": 69,
     "metadata": {},
     "output_type": "execute_result"
    }
   ],
   "source": [
    "test_raw_data = feature_table[labels.indicator == '[None]']\n",
    "test_raw_data.shape"
   ]
  },
  {
   "cell_type": "code",
   "execution_count": 70,
   "metadata": {
    "collapsed": true
   },
   "outputs": [],
   "source": [
    "#len(train_raw_data)"
   ]
  },
  {
   "cell_type": "code",
   "execution_count": 71,
   "metadata": {
    "collapsed": true
   },
   "outputs": [],
   "source": [
    "#len(test_raw_data)"
   ]
  },
  {
   "cell_type": "code",
   "execution_count": 72,
   "metadata": {
    "collapsed": true
   },
   "outputs": [],
   "source": [
    "#len(train_trans_labels)"
   ]
  },
  {
   "cell_type": "code",
   "execution_count": 73,
   "metadata": {
    "collapsed": true
   },
   "outputs": [],
   "source": [
    "#len(train_labels[train_labels['indicator'] == '1'])"
   ]
  },
  {
   "cell_type": "markdown",
   "metadata": {},
   "source": [
    "## save train data and test data to csv file"
   ]
  },
  {
   "cell_type": "code",
   "execution_count": 103,
   "metadata": {
    "collapsed": true
   },
   "outputs": [],
   "source": [
    "train_raw_data.to_csv('train_raw_data.csv',index = False)"
   ]
  },
  {
   "cell_type": "code",
   "execution_count": 104,
   "metadata": {
    "collapsed": true
   },
   "outputs": [],
   "source": [
    "test_raw_data.to_csv('test_raw_data.csv',index = False)"
   ]
  }
 ],
 "metadata": {
  "kernelspec": {
   "display_name": "Python 2",
   "language": "python",
   "name": "python2"
  },
  "language_info": {
   "codemirror_mode": {
    "name": "ipython",
    "version": 2
   },
   "file_extension": ".py",
   "mimetype": "text/x-python",
   "name": "python",
   "nbconvert_exporter": "python",
   "pygments_lexer": "ipython2",
   "version": "2.7.14"
  }
 },
 "nbformat": 4,
 "nbformat_minor": 2
}
